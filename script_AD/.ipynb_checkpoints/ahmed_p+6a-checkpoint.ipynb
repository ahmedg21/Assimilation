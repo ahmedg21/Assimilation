{
 "cells": [
  {
   "cell_type": "code",
   "execution_count": null,
   "id": "0ddbfc45-6dec-4c73-9034-78688948e4aa",
   "metadata": {},
   "outputs": [],
   "source": []
  }
 ],
 "metadata": {
  "kernelspec": {
   "display_name": "Python 3 (ipykernel)",
   "language": "python",
   "name": "python3"
  },
  "language_info": {
   "name": ""
  }
 },
 "nbformat": 4,
 "nbformat_minor": 5
}
