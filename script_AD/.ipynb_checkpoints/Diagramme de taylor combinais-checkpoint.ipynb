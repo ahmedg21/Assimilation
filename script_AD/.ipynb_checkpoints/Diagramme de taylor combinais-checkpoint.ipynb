{
 "cells": [
  {
   "cell_type": "code",
   "execution_count": 8,
   "id": "947420c9-5ad7-47a4-98bb-8519336de52d",
   "metadata": {},
   "outputs": [
    {
     "name": "stdout",
     "output_type": "stream",
     "text": [
      "Collecting windrose\n",
      "  Downloading windrose-1.9.0-py3-none-any.whl.metadata (5.2 kB)\n",
      "Requirement already satisfied: matplotlib>=3 in c:\\users\\nzo business\\appdata\\local\\programs\\python\\python312\\lib\\site-packages (from windrose) (3.8.0)\n",
      "Requirement already satisfied: numpy>=1.21 in c:\\users\\nzo business\\appdata\\local\\programs\\python\\python312\\lib\\site-packages (from windrose) (1.26.1)\n",
      "Requirement already satisfied: contourpy>=1.0.1 in c:\\users\\nzo business\\appdata\\local\\programs\\python\\python312\\lib\\site-packages (from matplotlib>=3->windrose) (1.1.1)\n",
      "Requirement already satisfied: cycler>=0.10 in c:\\users\\nzo business\\appdata\\local\\programs\\python\\python312\\lib\\site-packages (from matplotlib>=3->windrose) (0.12.1)\n",
      "Requirement already satisfied: fonttools>=4.22.0 in c:\\users\\nzo business\\appdata\\local\\programs\\python\\python312\\lib\\site-packages (from matplotlib>=3->windrose) (4.43.1)\n",
      "Requirement already satisfied: kiwisolver>=1.0.1 in c:\\users\\nzo business\\appdata\\local\\programs\\python\\python312\\lib\\site-packages (from matplotlib>=3->windrose) (1.4.5)\n",
      "Requirement already satisfied: packaging>=20.0 in c:\\users\\nzo business\\appdata\\local\\programs\\python\\python312\\lib\\site-packages (from matplotlib>=3->windrose) (23.2)\n",
      "Requirement already satisfied: pillow>=6.2.0 in c:\\users\\nzo business\\appdata\\local\\programs\\python\\python312\\lib\\site-packages (from matplotlib>=3->windrose) (10.1.0)\n",
      "Requirement already satisfied: pyparsing>=2.3.1 in c:\\users\\nzo business\\appdata\\local\\programs\\python\\python312\\lib\\site-packages (from matplotlib>=3->windrose) (3.1.1)\n",
      "Requirement already satisfied: python-dateutil>=2.7 in c:\\users\\nzo business\\appdata\\local\\programs\\python\\python312\\lib\\site-packages (from matplotlib>=3->windrose) (2.8.2)\n",
      "Requirement already satisfied: six>=1.5 in c:\\users\\nzo business\\appdata\\local\\programs\\python\\python312\\lib\\site-packages (from python-dateutil>=2.7->matplotlib>=3->windrose) (1.16.0)\n",
      "Downloading windrose-1.9.0-py3-none-any.whl (12 kB)\n",
      "Installing collected packages: windrose\n",
      "Successfully installed windrose-1.9.0\n",
      "Note: you may need to restart the kernel to use updated packages.\n"
     ]
    }
   ],
   "source": [
    "pip install windrose"
   ]
  },
  {
   "cell_type": "code",
   "execution_count": null,
   "id": "85cd74a1-c995-4529-9e76-18d8cb3ddd20",
   "metadata": {},
   "outputs": [],
   "source": []
  },
  {
   "cell_type": "code",
   "execution_count": 11,
   "id": "0777d09d-b657-49c4-ad14-a7a6790d3935",
   "metadata": {},
   "outputs": [
    {
     "ename": "NameError",
     "evalue": "name 'valeurs_obsA' is not defined",
     "output_type": "error",
     "traceback": [
      "\u001b[1;31m---------------------------------------------------------------------------\u001b[0m",
      "\u001b[1;31mNameError\u001b[0m                                 Traceback (most recent call last)",
      "Cell \u001b[1;32mIn[11], line 53\u001b[0m\n\u001b[0;32m     48\u001b[0m     \u001b[38;5;28;01mreturn\u001b[39;00m dia\n\u001b[0;32m     50\u001b[0m \u001b[38;5;28;01mif\u001b[39;00m \u001b[38;5;18m__name__\u001b[39m \u001b[38;5;241m==\u001b[39m \u001b[38;5;124m'\u001b[39m\u001b[38;5;124m__main__\u001b[39m\u001b[38;5;124m'\u001b[39m:\n\u001b[0;32m     51\u001b[0m \n\u001b[0;32m     52\u001b[0m     \u001b[38;5;66;03m#dia = test1()\u001b[39;00m\n\u001b[1;32m---> 53\u001b[0m     dia \u001b[38;5;241m=\u001b[39m \u001b[43mtest2\u001b[49m\u001b[43m(\u001b[49m\u001b[43m)\u001b[49m\n\u001b[0;32m     55\u001b[0m     \u001b[38;5;66;03m#plt.savefig('diagramme_taylor.png')\u001b[39;00m\n\u001b[0;32m     57\u001b[0m     PLT\u001b[38;5;241m.\u001b[39mshow()\n",
      "Cell \u001b[1;32mIn[11], line 14\u001b[0m, in \u001b[0;36mtest2\u001b[1;34m()\u001b[0m\n\u001b[0;32m     11\u001b[0m fig, axs \u001b[38;5;241m=\u001b[39m plt\u001b[38;5;241m.\u001b[39msubplots(\u001b[38;5;241m1\u001b[39m, \u001b[38;5;241m2\u001b[39m, figsize\u001b[38;5;241m=\u001b[39m(\u001b[38;5;241m14\u001b[39m, \u001b[38;5;241m5\u001b[39m))\n\u001b[0;32m     13\u001b[0m \u001b[38;5;66;03m# Diagramme de Taylor\u001b[39;00m\n\u001b[1;32m---> 14\u001b[0m refstd \u001b[38;5;241m=\u001b[39m np\u001b[38;5;241m.\u001b[39mstd(\u001b[43mvaleurs_obsA\u001b[49m)\n\u001b[0;32m     15\u001b[0m dia \u001b[38;5;241m=\u001b[39m TaylorDiagram(refstd, fig\u001b[38;5;241m=\u001b[39mfig, label\u001b[38;5;241m=\u001b[39m\u001b[38;5;124m'\u001b[39m\u001b[38;5;124mReference\u001b[39m\u001b[38;5;124m'\u001b[39m, extend\u001b[38;5;241m=\u001b[39m\u001b[38;5;28;01mFalse\u001b[39;00m, ax\u001b[38;5;241m=\u001b[39maxs[\u001b[38;5;241m0\u001b[39m])\n\u001b[0;32m     16\u001b[0m dia\u001b[38;5;241m.\u001b[39msamplePoints[\u001b[38;5;241m0\u001b[39m]\u001b[38;5;241m.\u001b[39mset_color(\u001b[38;5;124m'\u001b[39m\u001b[38;5;124mr\u001b[39m\u001b[38;5;124m'\u001b[39m)  \u001b[38;5;66;03m# Mark reference point as a red star\u001b[39;00m\n",
      "\u001b[1;31mNameError\u001b[0m: name 'valeurs_obsA' is not defined"
     ]
    },
    {
     "data": {
      "image/png": "[encoded data removed]",
      "text/plain": [
       "<Figure size 1400x500 with 2 Axes>"
      ]
     },
     "metadata": {},
     "output_type": "display_data"
    }
   ],
   "source": [
    "import pandas as pd\n",
    "import numpy as np\n",
    "import matplotlib.pyplot as plt\n",
    "from matplotlib.ticker import MaxNLocator\n",
    "from windrose import WindroseAxes\n",
    "\n",
    "def test2():\n",
    "    # ... (votre code existant)\n",
    "\n",
    "    # Créer une figure avec 1 ligne et 2 colonnes pour les subplots\n",
    "    fig, axs = plt.subplots(1, 2, figsize=(14, 5))\n",
    "\n",
    "    # Diagramme de Taylor\n",
    "    refstd = np.std(valeurs_obsA)\n",
    "    dia = TaylorDiagram(refstd, fig=fig, label='Reference', extend=False, ax=axs[0])\n",
    "    dia.samplePoints[0].set_color('r')  # Mark reference point as a red star\n",
    "\n",
    "    # Ajouter les échantillons (modèles) au diagramme\n",
    "    dia.add_sample(np.std(valeurs_predites_modele_A), np.corrcoef(valeurs_obsA, valeurs_predites_modele_A)[0, 1], marker='$A$', ms=10, ls='', mfc='blue', mec='blue', label=f'1ér (RMSE={rmse_modele_A:.2f})')\n",
    "    dia.add_sample(np.std(valeurs_predites_modele_B), np.corrcoef(valeurs_obsB, valeurs_predites_modele_B)[0, 1], marker='$B$', ms=10, ls='', mfc='green', mec='green', label=f'2ém jour (RMSE={rmse_modele_B:.2f})')\n",
    "    dia.add_sample(np.std(valeurs_predites_modele_C), np.corrcoef(valeurs_obsC, valeurs_predites_modele_C)[0, 1], marker='$C$', ms=10, ls='', mfc='yellow', mec='yellow', label=f'3ém jour (RMSE={rmse_modele_C:.2f})')\n",
    "    dia.add_sample(np.std(valeurs_predites_modele_D), np.corrcoef(valeurs_obsD, valeurs_predites_modele_D)[0, 1], marker='$D$', ms=10, ls='', mfc='red', mec='red', label=f'4ém jour (RMSE={rmse_modele_D:.2f})')\n",
    "    dia.add_sample(np.std(valeurs_predites_modele_E), np.corrcoef(valeurs_obsE, valeurs_predites_modele_E)[0, 1], marker='$E$', ms=10, ls='', mfc='purple', mec='purple', label=f'5ém jour (RMSE={rmse_modele_E:.2f})')\n",
    "    dia.add_sample(np.std(valeurs_predites_modele_F), np.corrcoef(valeurs_obsF, valeurs_predites_modele_F)[0, 1], marker='$F$', ms=10, ls='', mfc='orange', mec='orange', label=f'6ém jour (RMSE={rmse_modele_F:.2f})')\n",
    "    dia.add_sample(np.std(valeurs_predites_modele_G), np.corrcoef(valeurs_obsG, valeurs_predites_modele_G)[0, 1], marker='$G$', ms=10, ls='', mfc='violet', mec='violet', label=f'7ém jour (RMSE={rmse_modele_G:.2f})')\n",
    "\n",
    "    # Ajouter des contours RMS et des grilles\n",
    "    dia.add_contours(levels=10, colors='0.5')\n",
    "    dia.add_grid()\n",
    "\n",
    "    # Configurer les axes et la légende\n",
    "    dia._ax.axis[:].major_ticks.set_tick_out(True)\n",
    "    axs[0].legend(dia.samplePoints, [p.get_label() for p in dia.samplePoints], numpoints=1, prop=dict(size='small'), loc='upper right', bbox_to_anchor=(1.35, 1))\n",
    "    axs[0].set_title('Variation du coefficient de corrélation')\n",
    "\n",
    "    # Plot RMSE Values\n",
    "    jours = np.array([1, 2, 3, 4, 5, 6, 7])  # Numéros de jour\n",
    "    rmse = np.array([rmse_modele_A, rmse_modele_B, rmse_modele_C, rmse_modele_D, rmse_modele_E, rmse_modele_F, rmse_modele_G])\n",
    "\n",
    "    axs[1].plot(jours, rmse)\n",
    "    axs[1].set_xlabel('Jours')\n",
    "    axs[1].set_ylabel('RMSE (Root Mean Square Error)')\n",
    "    axs[1].set_title('Variation RMSE en fonction des jours')\n",
    "\n",
    "    plt.tight_layout()\n",
    "    plt.show()\n",
    "    plt.show()\n",
    "    return dia\n",
    "\n",
    "if __name__ == '__main__':\n",
    "\n",
    "    #dia = test1()\n",
    "    dia = test2()\n",
    "\n",
    "    #plt.savefig('diagramme_taylor.png')\n",
    "\n",
    "    PLT.show()"
   ]
  },
  {
   "cell_type": "code",
   "execution_count": null,
   "id": "81ef6771-9c40-45f9-89ba-fb58b42fddb1",
   "metadata": {},
   "outputs": [],
   "source": []
  }
 ],
 "metadata": {
  "kernelspec": {
   "display_name": "Python 3 (ipykernel)",
   "language": "python",
   "name": "python3"
  },
  "language_info": {
   "codemirror_mode": {
    "name": "ipython",
    "version": 3
   },
   "file_extension": ".py",
   "mimetype": "text/x-python",
   "name": "python",
   "nbconvert_exporter": "python",
   "pygments_lexer": "ipython3",
   "version": "3.12.0"
  }
 },
 "nbformat": 4,
 "nbformat_minor": 5
}
