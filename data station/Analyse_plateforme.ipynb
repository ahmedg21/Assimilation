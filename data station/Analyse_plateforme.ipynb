{
 "cells": [
  {
   "cell_type": "code",
   "execution_count": 29,
   "id": "4dc8df9b-e09b-48fc-8f34-29fc4d52e700",
   "metadata": {},
   "outputs": [],
   "source": [
    "import pandas as pd\n",
    "import numpy as np\n",
    "import statsmodels.api as sm\n",
    "from itertools import product\n",
    "import matplotlib.pyplot as plt"
   ]
  },
  {
   "cell_type": "code",
   "execution_count": 46,
   "id": "50586090-8357-4e4d-b764-fe6bbdb98dc4",
   "metadata": {},
   "outputs": [
    {
     "data": {
      "text/html": [
       "<div>\n",
       "<style scoped>\n",
       "    .dataframe tbody tr th:only-of-type {\n",
       "        vertical-align: middle;\n",
       "    }\n",
       "\n",
       "    .dataframe tbody tr th {\n",
       "        vertical-align: top;\n",
       "    }\n",
       "\n",
       "    .dataframe thead th {\n",
       "        text-align: right;\n",
       "    }\n",
       "</style>\n",
       "<table border=\"1\" class=\"dataframe\">\n",
       "  <thead>\n",
       "    <tr style=\"text-align: right;\">\n",
       "      <th></th>\n",
       "      <th>id</th>\n",
       "      <th>pm01_m</th>\n",
       "      <th>pm25_m</th>\n",
       "      <th>pm10_m</th>\n",
       "      <th>temperature_m</th>\n",
       "      <th>humidity_m</th>\n",
       "      <th>iqa_pm25</th>\n",
       "      <th>iqa_pm10</th>\n",
       "      <th>event</th>\n",
       "    </tr>\n",
       "  </thead>\n",
       "  <tbody>\n",
       "    <tr>\n",
       "      <th>0</th>\n",
       "      <td>1</td>\n",
       "      <td>23</td>\n",
       "      <td>55</td>\n",
       "      <td>74</td>\n",
       "      <td>23</td>\n",
       "      <td>91</td>\n",
       "      <td>0</td>\n",
       "      <td>0</td>\n",
       "      <td>2023-02-15</td>\n",
       "    </tr>\n",
       "    <tr>\n",
       "      <th>1</th>\n",
       "      <td>2</td>\n",
       "      <td>15</td>\n",
       "      <td>34</td>\n",
       "      <td>45</td>\n",
       "      <td>22</td>\n",
       "      <td>74</td>\n",
       "      <td>0</td>\n",
       "      <td>0</td>\n",
       "      <td>2023-02-16</td>\n",
       "    </tr>\n",
       "    <tr>\n",
       "      <th>2</th>\n",
       "      <td>3</td>\n",
       "      <td>10</td>\n",
       "      <td>20</td>\n",
       "      <td>25</td>\n",
       "      <td>20</td>\n",
       "      <td>73</td>\n",
       "      <td>0</td>\n",
       "      <td>0</td>\n",
       "      <td>2023-02-17</td>\n",
       "    </tr>\n",
       "    <tr>\n",
       "      <th>3</th>\n",
       "      <td>4</td>\n",
       "      <td>6</td>\n",
       "      <td>12</td>\n",
       "      <td>15</td>\n",
       "      <td>21</td>\n",
       "      <td>69</td>\n",
       "      <td>0</td>\n",
       "      <td>0</td>\n",
       "      <td>2023-02-18</td>\n",
       "    </tr>\n",
       "    <tr>\n",
       "      <th>4</th>\n",
       "      <td>5</td>\n",
       "      <td>6</td>\n",
       "      <td>12</td>\n",
       "      <td>15</td>\n",
       "      <td>22</td>\n",
       "      <td>70</td>\n",
       "      <td>0</td>\n",
       "      <td>0</td>\n",
       "      <td>2023-02-19</td>\n",
       "    </tr>\n",
       "  </tbody>\n",
       "</table>\n",
       "</div>"
      ],
      "text/plain": [
       "   id  pm01_m  pm25_m  pm10_m  temperature_m  humidity_m  iqa_pm25  iqa_pm10  \\\n",
       "0   1      23      55      74             23          91         0         0   \n",
       "1   2      15      34      45             22          74         0         0   \n",
       "2   3      10      20      25             20          73         0         0   \n",
       "3   4       6      12      15             21          69         0         0   \n",
       "4   5       6      12      15             22          70         0         0   \n",
       "\n",
       "        event  \n",
       "0  2023-02-15  \n",
       "1  2023-02-16  \n",
       "2  2023-02-17  \n",
       "3  2023-02-18  \n",
       "4  2023-02-19  "
      ]
     },
     "execution_count": 46,
     "metadata": {},
     "output_type": "execute_result"
    }
   ],
   "source": [
    "data = pd.read_csv('data_j.csv')\n",
    "data1 = pd.read_csv('prediction_u.csv')\n",
    "data = data.dropna()\n",
    "data1 = data1.dropna()\n",
    "data.head()"
   ]
  },
  {
   "cell_type": "code",
   "execution_count": 47,
   "id": "3eeb7435-8d51-46a8-96d3-f97419e10414",
   "metadata": {},
   "outputs": [
    {
     "data": {
      "text/plain": [
       "(2223, 270)"
      ]
     },
     "execution_count": 47,
     "metadata": {},
     "output_type": "execute_result"
    }
   ],
   "source": [
    "data.size,data1.size"
   ]
  },
  {
   "cell_type": "code",
   "execution_count": 48,
   "id": "758e0242-c565-4036-bb3a-0d05176436f9",
   "metadata": {},
   "outputs": [],
   "source": [
    "data['Date'] = pd.to_datetime(data['event'])\n",
    "data1['Date'] = pd.to_datetime(data1['date'])"
   ]
  },
  {
   "cell_type": "code",
   "execution_count": 49,
   "id": "f7be55c3-5f15-4d34-93c2-9862f3b52570",
   "metadata": {},
   "outputs": [],
   "source": [
    "data = data.set_index('Date')\n",
    "data1 = data1.set_index('Date')"
   ]
  },
  {
   "cell_type": "code",
   "execution_count": 50,
   "id": "d2948998-414f-4041-9169-ed9d8eb5b53e",
   "metadata": {},
   "outputs": [],
   "source": [
    "data = data.sort_index()"
   ]
  },
  {
   "cell_type": "code",
   "execution_count": 51,
   "id": "50bcc657-8cad-46dc-9e5d-439800f9e374",
   "metadata": {},
   "outputs": [],
   "source": [
    "start_date = '2023-09-22'"
   ]
  },
  {
   "cell_type": "code",
   "execution_count": 73,
   "id": "8dedc25d-d1a0-49e1-a25b-7e5f09c79755",
   "metadata": {},
   "outputs": [],
   "source": [
    "end_date = '2023-11-02'\n",
    "end_date1 = '2023-11-02'"
   ]
  },
  {
   "cell_type": "code",
   "execution_count": 74,
   "id": "413af017-5b69-4b94-92dc-cc0115414080",
   "metadata": {},
   "outputs": [],
   "source": [
    "selected_data = data[start_date:end_date]\n",
    "selected_data1 = data1[:end_date1]"
   ]
  },
  {
   "cell_type": "code",
   "execution_count": 76,
   "id": "01f94667-a84c-4333-b2f7-d884250e8f26",
   "metadata": {},
   "outputs": [],
   "source": [
    "series_data = selected_data['pm25_m']\n",
    "serie_datap = selected_data1['pm25_p']"
   ]
  },
  {
   "cell_type": "code",
   "execution_count": 77,
   "id": "cd17c8f8-150b-41cb-ab94-6c4fa1c35bb4",
   "metadata": {},
   "outputs": [
    {
     "data": {
      "text/plain": [
       "Date\n",
       "2023-09-22     12\n",
       "2023-09-23     10\n",
       "2023-09-24     24\n",
       "2023-09-25     20\n",
       "2023-09-26     19\n",
       "2023-09-27     12\n",
       "2023-09-28     30\n",
       "2023-09-29     48\n",
       "2023-09-30     28\n",
       "2023-10-01     48\n",
       "2023-10-02     61\n",
       "2023-10-03     33\n",
       "2023-10-04     20\n",
       "2023-10-05     21\n",
       "2023-10-06     25\n",
       "2023-10-07     22\n",
       "2023-10-08     18\n",
       "2023-10-09     32\n",
       "2023-10-10     54\n",
       "2023-10-11     34\n",
       "2023-10-12     26\n",
       "2023-10-13     26\n",
       "2023-10-14     23\n",
       "2023-10-15     27\n",
       "2023-10-16     26\n",
       "2023-10-17     17\n",
       "2023-10-18     42\n",
       "2023-10-19     47\n",
       "2023-10-20     58\n",
       "2023-10-21     39\n",
       "2023-10-22     22\n",
       "2023-10-23     20\n",
       "2023-10-24     12\n",
       "2023-10-25     44\n",
       "2023-10-26     27\n",
       "2023-10-27     87\n",
       "2023-10-28    100\n",
       "2023-10-29     46\n",
       "2023-10-30    105\n",
       "2023-10-31     93\n",
       "2023-11-01     97\n",
       "2023-11-02    120\n",
       "Name: pm25_m, dtype: int64"
      ]
     },
     "execution_count": 77,
     "metadata": {},
     "output_type": "execute_result"
    }
   ],
   "source": [
    "series_data"
   ]
  },
  {
   "cell_type": "code",
   "execution_count": 78,
   "id": "e5f3de0d-06d9-4dcb-824d-720b2a6abe3b",
   "metadata": {},
   "outputs": [
    {
     "data": {
      "text/plain": [
       "Date\n",
       "2023-09-22    15.00\n",
       "2023-09-23    14.00\n",
       "2023-09-24    12.00\n",
       "2023-09-25    20.00\n",
       "2023-09-26    18.51\n",
       "2023-09-27    19.42\n",
       "2023-09-28    15.07\n",
       "2023-09-29    22.89\n",
       "2023-09-30    29.49\n",
       "2023-10-01    26.06\n",
       "2023-10-02    39.43\n",
       "2023-10-03    47.25\n",
       "2023-10-04    32.95\n",
       "2023-10-05    25.87\n",
       "2023-10-06    21.37\n",
       "2023-10-07    23.20\n",
       "2023-10-08    20.66\n",
       "2023-10-09    19.59\n",
       "2023-10-10    26.76\n",
       "2023-10-11    40.33\n",
       "2023-10-12    29.92\n",
       "2023-10-13    27.77\n",
       "2023-10-14    25.88\n",
       "2023-10-15    23.51\n",
       "2023-10-16    24.82\n",
       "2023-10-17    24.22\n",
       "2023-10-18    19.08\n",
       "2023-10-19    34.06\n",
       "2023-10-20    36.08\n",
       "2023-10-21    41.74\n",
       "2023-10-22    35.83\n",
       "2023-10-23    27.40\n",
       "2023-10-24    25.19\n",
       "2023-10-25    14.46\n",
       "2023-10-26    37.83\n",
       "2023-10-27    24.14\n",
       "2023-10-28    54.50\n",
       "2023-10-29    73.65\n",
       "2023-10-30    35.08\n",
       "2023-10-31    84.44\n",
       "2023-11-01    62.40\n",
       "2023-11-02    85.36\n",
       "Name: pm25_p, dtype: float64"
      ]
     },
     "execution_count": 78,
     "metadata": {},
     "output_type": "execute_result"
    }
   ],
   "source": [
    "serie_datap"
   ]
  },
  {
   "cell_type": "code",
   "execution_count": 85,
   "id": "11c637ca-df0f-4839-9ca7-80cdc231803f",
   "metadata": {},
   "outputs": [
    {
     "data": {
      "text/plain": [
       "Date\n",
       "2023-09-22     15.00\n",
       "2023-09-23     14.00\n",
       "2023-09-24     12.00\n",
       "2023-09-25     20.00\n",
       "2023-09-26     18.51\n",
       "2023-09-27     19.42\n",
       "2023-09-28     15.07\n",
       "2023-09-29     22.89\n",
       "2023-09-30     29.49\n",
       "2023-10-01     26.06\n",
       "2023-10-02     39.43\n",
       "2023-10-03     47.25\n",
       "2023-10-04     32.95\n",
       "2023-10-05     25.87\n",
       "2023-10-06     21.37\n",
       "2023-10-07     23.20\n",
       "2023-10-08     20.66\n",
       "2023-10-09     19.59\n",
       "2023-10-10     26.76\n",
       "2023-10-11     40.33\n",
       "2023-10-12     29.92\n",
       "2023-10-13     27.77\n",
       "2023-10-14     25.88\n",
       "2023-10-15     23.51\n",
       "2023-10-16     24.82\n",
       "2023-10-17     24.22\n",
       "2023-10-18     19.08\n",
       "2023-10-19     34.06\n",
       "2023-10-20     36.08\n",
       "2023-10-21     41.74\n",
       "2023-10-22     35.83\n",
       "2023-10-23     27.40\n",
       "2023-10-24     25.19\n",
       "2023-10-25     14.46\n",
       "2023-10-26     37.83\n",
       "2023-10-27     24.14\n",
       "2023-10-28     54.50\n",
       "2023-10-29     73.65\n",
       "2023-10-30     35.08\n",
       "2023-10-31     84.44\n",
       "2023-11-01     62.40\n",
       "2023-11-02     85.36\n",
       "2023-11-03    105.55\n",
       "2023-11-04    100.90\n",
       "2023-11-05    101.04\n",
       "Name: pm25_p, dtype: float64"
      ]
     },
     "execution_count": 85,
     "metadata": {},
     "output_type": "execute_result"
    }
   ],
   "source": [
    "data1['pm25_p']"
   ]
  },
  {
   "cell_type": "code",
   "execution_count": 80,
   "id": "d060e549-b798-470e-be18-d2bc04829bfd",
   "metadata": {},
   "outputs": [
    {
     "data": {
      "image/png": "[encoded data removed]",
      "text/plain": [
       "<Figure size 1200x500 with 1 Axes>"
      ]
     },
     "metadata": {},
     "output_type": "display_data"
    }
   ],
   "source": [
    "plt.figure(figsize=(12, 5))\n",
    "data['pm25_m'].plot(label='Data reel', linewidth=1) #series_data data['pm25_m']\n",
    "serie_datap.plot(label='Prediction', linewidth=2) #serie_datap data1['pm25_p']\n",
    "\n",
    "plt.xlabel('Temps')\n",
    "plt.ylabel('Concentration PM2.5 µg/m^3')\n",
    "#plt.title('variation ')\n",
    "plt.legend()\n",
    "plt.savefig('analyse data plateforme trait1')\n",
    "plt.xticks(rotation=45)  # Inclinaison des étiquettes pour une meilleure lisibilité\n",
    "plt.tight_layout()"
   ]
  },
  {
   "cell_type": "code",
   "execution_count": 81,
   "id": "a063077b-9950-490d-98ff-1e1151baca82",
   "metadata": {},
   "outputs": [],
   "source": [
    "df = pd.DataFrame({'pm25': series_data, 'pm25_p': serie_datap})"
   ]
  },
  {
   "cell_type": "code",
   "execution_count": 84,
   "id": "bc52f028-9561-4a37-ae7c-56af605e03ba",
   "metadata": {},
   "outputs": [],
   "source": [
    "df.to_csv('donnees.csv', index=True)"
   ]
  },
  {
   "cell_type": "code",
   "execution_count": 92,
   "id": "4f611220-1b56-400d-9451-d7aa5f3e8e3e",
   "metadata": {},
   "outputs": [
    {
     "name": "stdout",
     "output_type": "stream",
     "text": [
      "Resultats enregistres\n"
     ]
    }
   ],
   "source": [
    "import pandas as pd\n",
    "import numpy as np\n",
    "from sklearn.metrics import mean_squared_error, mean_absolute_error\n",
    "import statsmodels.api as sm\n",
    "\n",
    "# Charger les données à partir du fichier (assurez-vous que le fichier est correctement formaté)\n",
    "data = pd.read_csv('donnees.csv')\n",
    "valeurs_reelles = data['pm25']\n",
    "valeurs_predites = data['pm25_p']\n",
    "\n",
    "# Calculer les métriques d'évaluation\n",
    "rmse = np.sqrt(mean_squared_error(valeurs_reelles, valeurs_predites))\n",
    "mae = mean_absolute_error(valeurs_reelles, valeurs_predites)\n",
    "mape = np.mean(np.abs((valeurs_reelles - valeurs_predites) / valeurs_reelles)) * 100\n",
    "\n",
    "coefficient_de_correlation, _ = pearsonr(valeurs_reelles, valeurs_predites)\n",
    "\n",
    "\n",
    "# Si vous avez les paramètres du modèle ARIMA\n",
    "#ordre_arima = (2, 1, 1)  # Remplacez p, d, et q par les valeurs des paramètres du modèle ARIMA\n",
    "#nombre_de_parametres = sum(ordre_arima) + 1  # Calcul du nombre total de paramètres dans le modèle ARIMA\n",
    "\n",
    "# Calculer l'AIC et le BIC\n",
    "#aic = len(valeurs_reelles) * np.log(rmse) + 2 * nombre_de_parametres\n",
    "#bic = len(valeurs_reelles) * np.log(rmse) + np.log(len(valeurs_reelles)) * nombre_de_parametres\n",
    "\n",
    "# Créer un DataFrame pour stocker les résultats\n",
    "resultats = pd.DataFrame(columns=['RMSE', 'MAE', 'MAPE', 'Coefficient de corrélation'])\n",
    "\n",
    "# Ajouter les résultats dans le DataFrame\n",
    "resultats.loc[0] = [rmse, mae, mape, coefficient_de_correlation]\n",
    "\n",
    "# Enregistrez le DataFrame dans un fichier CSV\n",
    "resultats.to_csv('parametre1.csv', index=False)\n",
    "print(\"Resultats enregistres\")\n"
   ]
  },
  {
   "cell_type": "code",
   "execution_count": null,
   "id": "03912f4e-92c9-4381-925a-f45374337b4f",
   "metadata": {},
   "outputs": [],
   "source": []
  }
 ],
 "metadata": {
  "kernelspec": {
   "display_name": "Python 3 (ipykernel)",
   "language": "python",
   "name": "python3"
  },
  "language_info": {
   "codemirror_mode": {
    "name": "ipython",
    "version": 3
   },
   "file_extension": ".py",
   "mimetype": "text/x-python",
   "name": "python",
   "nbconvert_exporter": "python",
   "pygments_lexer": "ipython3",
   "version": "3.12.0"
  }
 },
 "nbformat": 4,
 "nbformat_minor": 5
}
