{
 "cells": [
  {
   "cell_type": "code",
   "execution_count": 25,
   "id": "38e70f62-ffb8-4af1-b7e1-8f4febca96ec",
   "metadata": {},
   "outputs": [],
   "source": [
    "import itertools\n",
    "import pandas as pd\n",
    "from statsmodels.tsa.arima_model import ARIMA\n",
    "\n",
    "# Charger les données\n",
    "data = pd.read_csv('data.csv', parse_dates=True)\n",
    "data['Date']=pd.to_datetime(data['Date'])\n",
    "data.set_index('Date', inplace = True)\n",
    "data.index = data.index.to_period('D')\n",
    "data = data.dropna()"
   ]
  },
  {
   "cell_type": "code",
   "execution_count": 26,
   "id": "fd9baddc-f03c-4aba-8ae3-9c50f54b070a",
   "metadata": {},
   "outputs": [
    {
     "data": {
      "text/html": [
       "<div>\n",
       "<style scoped>\n",
       "    .dataframe tbody tr th:only-of-type {\n",
       "        vertical-align: middle;\n",
       "    }\n",
       "\n",
       "    .dataframe tbody tr th {\n",
       "        vertical-align: top;\n",
       "    }\n",
       "\n",
       "    .dataframe thead th {\n",
       "        text-align: right;\n",
       "    }\n",
       "</style>\n",
       "<table border=\"1\" class=\"dataframe\">\n",
       "  <thead>\n",
       "    <tr style=\"text-align: right;\">\n",
       "      <th></th>\n",
       "      <th>Bel Air</th>\n",
       "      <th>Bd. Rép.</th>\n",
       "    </tr>\n",
       "    <tr>\n",
       "      <th>Date</th>\n",
       "      <th></th>\n",
       "      <th></th>\n",
       "    </tr>\n",
       "  </thead>\n",
       "  <tbody>\n",
       "    <tr>\n",
       "      <th>2010-01-01</th>\n",
       "      <td>39.45</td>\n",
       "      <td>51.21</td>\n",
       "    </tr>\n",
       "    <tr>\n",
       "      <th>2010-01-02</th>\n",
       "      <td>46.53</td>\n",
       "      <td>49.67</td>\n",
       "    </tr>\n",
       "    <tr>\n",
       "      <th>2010-01-03</th>\n",
       "      <td>37.03</td>\n",
       "      <td>44.08</td>\n",
       "    </tr>\n",
       "    <tr>\n",
       "      <th>2010-01-04</th>\n",
       "      <td>48.44</td>\n",
       "      <td>49.04</td>\n",
       "    </tr>\n",
       "    <tr>\n",
       "      <th>2010-01-05</th>\n",
       "      <td>39.79</td>\n",
       "      <td>40.58</td>\n",
       "    </tr>\n",
       "  </tbody>\n",
       "</table>\n",
       "</div>"
      ],
      "text/plain": [
       "            Bel Air  Bd. Rép.\n",
       "Date                         \n",
       "2010-01-01    39.45     51.21\n",
       "2010-01-02    46.53     49.67\n",
       "2010-01-03    37.03     44.08\n",
       "2010-01-04    48.44     49.04\n",
       "2010-01-05    39.79     40.58"
      ]
     },
     "execution_count": 26,
     "metadata": {},
     "output_type": "execute_result"
    }
   ],
   "source": [
    "data.head()"
   ]
  },
  {
   "cell_type": "code",
   "execution_count": 18,
   "id": "1d4ea270-5af9-406a-b420-078482b2c997",
   "metadata": {},
   "outputs": [
    {
     "data": {
      "text/html": [
       "<div>\n",
       "<style scoped>\n",
       "    .dataframe tbody tr th:only-of-type {\n",
       "        vertical-align: middle;\n",
       "    }\n",
       "\n",
       "    .dataframe tbody tr th {\n",
       "        vertical-align: top;\n",
       "    }\n",
       "\n",
       "    .dataframe thead th {\n",
       "        text-align: right;\n",
       "    }\n",
       "</style>\n",
       "<table border=\"1\" class=\"dataframe\">\n",
       "  <thead>\n",
       "    <tr style=\"text-align: right;\">\n",
       "      <th></th>\n",
       "      <th>Bel Air</th>\n",
       "      <th>Bd. Rép.</th>\n",
       "    </tr>\n",
       "    <tr>\n",
       "      <th>Date</th>\n",
       "      <th></th>\n",
       "      <th></th>\n",
       "    </tr>\n",
       "  </thead>\n",
       "  <tbody>\n",
       "    <tr>\n",
       "      <th>2013-11-28</th>\n",
       "      <td>19.05</td>\n",
       "      <td>11.96</td>\n",
       "    </tr>\n",
       "    <tr>\n",
       "      <th>2013-11-29</th>\n",
       "      <td>22.64</td>\n",
       "      <td>10.40</td>\n",
       "    </tr>\n",
       "    <tr>\n",
       "      <th>2013-11-30</th>\n",
       "      <td>21.74</td>\n",
       "      <td>19.09</td>\n",
       "    </tr>\n",
       "    <tr>\n",
       "      <th>2013-12-01</th>\n",
       "      <td>22.87</td>\n",
       "      <td>20.58</td>\n",
       "    </tr>\n",
       "    <tr>\n",
       "      <th>2013-12-02</th>\n",
       "      <td>30.90</td>\n",
       "      <td>6.83</td>\n",
       "    </tr>\n",
       "  </tbody>\n",
       "</table>\n",
       "</div>"
      ],
      "text/plain": [
       "            Bel Air  Bd. Rép.\n",
       "Date                         \n",
       "2013-11-28    19.05     11.96\n",
       "2013-11-29    22.64     10.40\n",
       "2013-11-30    21.74     19.09\n",
       "2013-12-01    22.87     20.58\n",
       "2013-12-02    30.90      6.83"
      ]
     },
     "execution_count": 18,
     "metadata": {},
     "output_type": "execute_result"
    }
   ],
   "source": [
    "data.tail()"
   ]
  },
  {
   "cell_type": "code",
   "execution_count": 19,
   "id": "47a6a379-a2e9-4f2c-8312-03e433154f72",
   "metadata": {},
   "outputs": [
    {
     "name": "stdout",
     "output_type": "stream",
     "text": [
      "Performing stepwise search to minimize aic\n",
      " ARIMA(0,1,0)(0,0,0)[0] intercept   : AIC=9645.927, Time=0.38 sec\n",
      " ARIMA(1,1,0)(0,0,0)[0] intercept   : AIC=9647.124, Time=0.73 sec\n",
      " ARIMA(0,1,1)(0,0,0)[0] intercept   : AIC=9646.417, Time=1.45 sec\n",
      " ARIMA(0,1,0)(0,0,0)[0]             : AIC=9643.927, Time=0.55 sec\n",
      " ARIMA(1,1,1)(0,0,0)[0] intercept   : AIC=9487.580, Time=2.32 sec\n",
      " ARIMA(2,1,1)(0,0,0)[0] intercept   : AIC=9452.974, Time=0.86 sec\n",
      " ARIMA(2,1,0)(0,0,0)[0] intercept   : AIC=9595.483, Time=0.20 sec\n",
      " ARIMA(3,1,1)(0,0,0)[0] intercept   : AIC=9454.794, Time=1.66 sec\n",
      " ARIMA(2,1,2)(0,0,0)[0] intercept   : AIC=9454.851, Time=1.42 sec\n",
      " ARIMA(1,1,2)(0,0,0)[0] intercept   : AIC=9455.436, Time=1.09 sec\n",
      " ARIMA(3,1,0)(0,0,0)[0] intercept   : AIC=9553.420, Time=0.67 sec\n",
      " ARIMA(3,1,2)(0,0,0)[0] intercept   : AIC=9456.949, Time=1.05 sec\n",
      " ARIMA(2,1,1)(0,0,0)[0]             : AIC=9451.100, Time=0.39 sec\n",
      " ARIMA(1,1,1)(0,0,0)[0]             : AIC=9485.738, Time=0.57 sec\n",
      " ARIMA(2,1,0)(0,0,0)[0]             : AIC=9593.483, Time=0.10 sec\n",
      " ARIMA(3,1,1)(0,0,0)[0]             : AIC=9452.923, Time=0.89 sec\n",
      " ARIMA(2,1,2)(0,0,0)[0]             : AIC=9452.979, Time=1.15 sec\n",
      " ARIMA(1,1,0)(0,0,0)[0]             : AIC=9645.124, Time=0.08 sec\n",
      " ARIMA(1,1,2)(0,0,0)[0]             : AIC=9453.574, Time=0.54 sec\n",
      " ARIMA(3,1,0)(0,0,0)[0]             : AIC=9551.421, Time=0.34 sec\n",
      " ARIMA(3,1,2)(0,0,0)[0]             : AIC=9455.075, Time=0.61 sec\n",
      "\n",
      "Best model:  ARIMA(2,1,1)(0,0,0)[0]          \n",
      "Total fit time: 17.115 seconds\n",
      "Meilleurs ordres (AIC) : p=2, d=1, q=1\n"
     ]
    }
   ],
   "source": [
    "import pandas as pd\n",
    "from pmdarima.arima import auto_arima\n",
    "\n",
    "# Utiliser auto_arima pour déterminer les ordres p, d et q avec le meilleur AIC\n",
    "model = auto_arima(data['Bel Air'], \n",
    "                   start_p=0, max_p=8,\n",
    "                   start_d=1, max_d=2,\n",
    "                   start_q=0, max_q=8,\n",
    "                   seasonal=False,\n",
    "                   stepwise=True, trace=True)\n",
    "\n",
    "# Afficher les ordres optimaux\n",
    "print(\"Meilleurs ordres (AIC) : p={}, d={}, q={}\".format(model.order[0], model.order[1], model.order[2]))\n"
   ]
  },
  {
   "cell_type": "code",
   "execution_count": 27,
   "id": "dc323bbb-96c6-4b4f-8154-f9220faf3d6d",
   "metadata": {},
   "outputs": [
    {
     "name": "stdout",
     "output_type": "stream",
     "text": [
      "Performing stepwise search to minimize aic\n",
      " ARIMA(0,0,0)(0,0,0)[0]             : AIC=9017.844, Time=0.02 sec\n",
      " ARIMA(1,0,0)(0,0,0)[0]             : AIC=7784.276, Time=0.06 sec\n",
      " ARIMA(0,0,1)(0,0,0)[0]             : AIC=8356.294, Time=0.07 sec\n",
      " ARIMA(2,0,0)(0,0,0)[0]             : AIC=7785.909, Time=0.11 sec\n",
      " ARIMA(1,0,1)(0,0,0)[0]             : AIC=7785.680, Time=0.12 sec\n",
      " ARIMA(2,0,1)(0,0,0)[0]             : AIC=7784.208, Time=0.18 sec\n",
      " ARIMA(3,0,1)(0,0,0)[0]             : AIC=7680.236, Time=0.46 sec\n",
      " ARIMA(3,0,0)(0,0,0)[0]             : AIC=7762.042, Time=0.17 sec\n",
      " ARIMA(4,0,1)(0,0,0)[0]             : AIC=7682.156, Time=0.50 sec\n",
      " ARIMA(3,0,2)(0,0,0)[0]             : AIC=7682.176, Time=0.69 sec\n",
      " ARIMA(2,0,2)(0,0,0)[0]             : AIC=7681.942, Time=0.62 sec\n",
      " ARIMA(4,0,0)(0,0,0)[0]             : AIC=7741.979, Time=0.18 sec\n",
      " ARIMA(4,0,2)(0,0,0)[0]             : AIC=7682.122, Time=1.00 sec\n",
      " ARIMA(3,0,1)(0,0,0)[0] intercept   : AIC=7674.968, Time=1.08 sec\n",
      " ARIMA(2,0,1)(0,0,0)[0] intercept   : AIC=7704.181, Time=0.47 sec\n",
      " ARIMA(3,0,0)(0,0,0)[0] intercept   : AIC=7700.142, Time=0.24 sec\n",
      " ARIMA(4,0,1)(0,0,0)[0] intercept   : AIC=7677.403, Time=1.27 sec\n",
      " ARIMA(3,0,2)(0,0,0)[0] intercept   : AIC=7684.783, Time=1.15 sec\n",
      " ARIMA(2,0,0)(0,0,0)[0] intercept   : AIC=7704.921, Time=0.14 sec\n",
      " ARIMA(2,0,2)(0,0,0)[0] intercept   : AIC=7676.838, Time=1.05 sec\n",
      " ARIMA(4,0,0)(0,0,0)[0] intercept   : AIC=7694.323, Time=0.28 sec\n",
      " ARIMA(4,0,2)(0,0,0)[0] intercept   : AIC=inf, Time=1.47 sec\n",
      "\n",
      "Best model:  ARIMA(3,0,1)(0,0,0)[0] intercept\n",
      "Total fit time: 11.332 seconds\n",
      "RMSE: 27.53\n",
      "R^2: -0.25\n",
      "Ordres optimaux (AIC): p=3, d=0, q=1\n"
     ]
    }
   ],
   "source": [
    "import pandas as pd\n",
    "from pmdarima.arima import auto_arima\n",
    "from sklearn.metrics import mean_squared_error, r2_score\n",
    "from math import sqrt\n",
    "\n",
    "# Diviser les données en ensemble d'entraînement et ensemble de test\n",
    "train_size = int(len(data) * 0.8)  # 80% des données pour l'entraînement\n",
    "train, test = data[0:train_size], data[train_size:]\n",
    "\n",
    "# Utiliser auto_arima pour déterminer les ordres p, d et q avec le meilleur AIC\n",
    "model = auto_arima(train['Bel Air'], \n",
    "                   start_p=0, max_p=5,\n",
    "                   start_d=1, max_d=2,\n",
    "                   start_q=0, max_q=5,\n",
    "                   seasonal=False,\n",
    "                   stepwise=True, trace=True)\n",
    "\n",
    "# Faire des prédictions sur l'ensemble de test\n",
    "predictions = model.predict(n_periods=len(test))\n",
    "\n",
    "# Calculer RMSE\n",
    "rmse = sqrt(mean_squared_error(test['Bel Air'], predictions))\n",
    "\n",
    "# Calculer R^2\n",
    "r2 = r2_score(test['Bel Air'], predictions)\n",
    "\n",
    "# Afficher les résultats\n",
    "print(\"RMSE: {:.2f}\".format(rmse))\n",
    "print(\"R^2: {:.2f}\".format(r2))\n",
    "print(\"Ordres optimaux (AIC): p={}, d={}, q={}\".format(model.order[0], model.order[1], model.order[2]))\n"
   ]
  },
  {
   "cell_type": "code",
   "execution_count": 29,
   "id": "288494d0-1619-4fd4-ad80-1c09f33ec947",
   "metadata": {},
   "outputs": [
    {
     "name": "stdout",
     "output_type": "stream",
     "text": [
      "Performing stepwise search to minimize aic\n",
      " ARIMA(0,0,0)(0,0,0)[0]             : AIC=9017.844, Time=0.02 sec\n",
      " ARIMA(1,0,0)(0,0,0)[0]             : AIC=7784.276, Time=0.03 sec\n",
      " ARIMA(0,0,1)(0,0,0)[0]             : AIC=8356.294, Time=0.06 sec\n",
      " ARIMA(2,0,0)(0,0,0)[0]             : AIC=7785.909, Time=0.06 sec\n",
      " ARIMA(1,0,1)(0,0,0)[0]             : AIC=7785.680, Time=0.10 sec\n",
      " ARIMA(2,0,1)(0,0,0)[0]             : AIC=7784.208, Time=0.11 sec\n",
      " ARIMA(3,0,1)(0,0,0)[0]             : AIC=7680.236, Time=0.40 sec\n",
      " ARIMA(3,0,0)(0,0,0)[0]             : AIC=7762.042, Time=0.14 sec\n",
      " ARIMA(4,0,1)(0,0,0)[0]             : AIC=7682.156, Time=0.52 sec\n",
      " ARIMA(3,0,2)(0,0,0)[0]             : AIC=7682.176, Time=0.62 sec\n",
      " ARIMA(2,0,2)(0,0,0)[0]             : AIC=7681.942, Time=0.60 sec\n",
      " ARIMA(4,0,0)(0,0,0)[0]             : AIC=7741.979, Time=0.17 sec\n",
      " ARIMA(4,0,2)(0,0,0)[0]             : AIC=7682.122, Time=0.91 sec\n",
      " ARIMA(3,0,1)(0,0,0)[0] intercept   : AIC=7674.968, Time=1.06 sec\n",
      " ARIMA(2,0,1)(0,0,0)[0] intercept   : AIC=7704.181, Time=0.46 sec\n",
      " ARIMA(3,0,0)(0,0,0)[0] intercept   : AIC=7700.142, Time=0.25 sec\n",
      " ARIMA(4,0,1)(0,0,0)[0] intercept   : AIC=7677.403, Time=1.23 sec\n",
      " ARIMA(3,0,2)(0,0,0)[0] intercept   : AIC=7684.783, Time=1.14 sec\n",
      " ARIMA(2,0,0)(0,0,0)[0] intercept   : AIC=7704.921, Time=0.15 sec\n",
      " ARIMA(2,0,2)(0,0,0)[0] intercept   : AIC=7676.838, Time=1.02 sec\n",
      " ARIMA(4,0,0)(0,0,0)[0] intercept   : AIC=7694.323, Time=0.33 sec\n",
      " ARIMA(4,0,2)(0,0,0)[0] intercept   : AIC=inf, Time=1.65 sec\n",
      "\n",
      "Best model:  ARIMA(3,0,1)(0,0,0)[0] intercept\n",
      "Total fit time: 11.057 seconds\n"
     ]
    },
    {
     "ename": "ValueError",
     "evalue": "Cannot convert Period to Timestamp unambiguously. Use to_timestamp",
     "output_type": "error",
     "traceback": [
      "\u001b[1;31m---------------------------------------------------------------------------\u001b[0m",
      "\u001b[1;31mValueError\u001b[0m                                Traceback (most recent call last)",
      "Cell \u001b[1;32mIn[29], line 24\u001b[0m\n\u001b[0;32m     21\u001b[0m predictions, conf_int \u001b[38;5;241m=\u001b[39m model\u001b[38;5;241m.\u001b[39mpredict(n_periods\u001b[38;5;241m=\u001b[39mforecast_steps, return_conf_int\u001b[38;5;241m=\u001b[39m\u001b[38;5;28;01mTrue\u001b[39;00m)\n\u001b[0;32m     23\u001b[0m \u001b[38;5;66;03m# Créer un index de dates pour les prédictions\u001b[39;00m\n\u001b[1;32m---> 24\u001b[0m prediction_index \u001b[38;5;241m=\u001b[39m \u001b[43mpd\u001b[49m\u001b[38;5;241;43m.\u001b[39;49m\u001b[43mdate_range\u001b[49m\u001b[43m(\u001b[49m\u001b[43mstart\u001b[49m\u001b[38;5;241;43m=\u001b[39;49m\u001b[43mtest\u001b[49m\u001b[38;5;241;43m.\u001b[39;49m\u001b[43mindex\u001b[49m\u001b[43m[\u001b[49m\u001b[38;5;241;43m0\u001b[39;49m\u001b[43m]\u001b[49m\u001b[43m,\u001b[49m\u001b[43m \u001b[49m\u001b[43mperiods\u001b[49m\u001b[38;5;241;43m=\u001b[39;49m\u001b[43mforecast_steps\u001b[49m\u001b[43m)\u001b[49m\n\u001b[0;32m     26\u001b[0m \u001b[38;5;66;03m# Assigner l'index aux prédictions\u001b[39;00m\n\u001b[0;32m     27\u001b[0m predictions \u001b[38;5;241m=\u001b[39m pd\u001b[38;5;241m.\u001b[39mSeries(predictions, index\u001b[38;5;241m=\u001b[39mprediction_index)\n",
      "File \u001b[1;32m~\\AppData\\Local\\Programs\\Python\\Python312\\Lib\\site-packages\\pandas\\core\\indexes\\datetimes.py:1009\u001b[0m, in \u001b[0;36mdate_range\u001b[1;34m(start, end, periods, freq, tz, normalize, name, inclusive, unit, **kwargs)\u001b[0m\n\u001b[0;32m   1006\u001b[0m \u001b[38;5;28;01mif\u001b[39;00m freq \u001b[38;5;129;01mis\u001b[39;00m \u001b[38;5;28;01mNone\u001b[39;00m \u001b[38;5;129;01mand\u001b[39;00m com\u001b[38;5;241m.\u001b[39many_none(periods, start, end):\n\u001b[0;32m   1007\u001b[0m     freq \u001b[38;5;241m=\u001b[39m \u001b[38;5;124m\"\u001b[39m\u001b[38;5;124mD\u001b[39m\u001b[38;5;124m\"\u001b[39m\n\u001b[1;32m-> 1009\u001b[0m dtarr \u001b[38;5;241m=\u001b[39m \u001b[43mDatetimeArray\u001b[49m\u001b[38;5;241;43m.\u001b[39;49m\u001b[43m_generate_range\u001b[49m\u001b[43m(\u001b[49m\n\u001b[0;32m   1010\u001b[0m \u001b[43m    \u001b[49m\u001b[43mstart\u001b[49m\u001b[38;5;241;43m=\u001b[39;49m\u001b[43mstart\u001b[49m\u001b[43m,\u001b[49m\n\u001b[0;32m   1011\u001b[0m \u001b[43m    \u001b[49m\u001b[43mend\u001b[49m\u001b[38;5;241;43m=\u001b[39;49m\u001b[43mend\u001b[49m\u001b[43m,\u001b[49m\n\u001b[0;32m   1012\u001b[0m \u001b[43m    \u001b[49m\u001b[43mperiods\u001b[49m\u001b[38;5;241;43m=\u001b[39;49m\u001b[43mperiods\u001b[49m\u001b[43m,\u001b[49m\n\u001b[0;32m   1013\u001b[0m \u001b[43m    \u001b[49m\u001b[43mfreq\u001b[49m\u001b[38;5;241;43m=\u001b[39;49m\u001b[43mfreq\u001b[49m\u001b[43m,\u001b[49m\n\u001b[0;32m   1014\u001b[0m \u001b[43m    \u001b[49m\u001b[43mtz\u001b[49m\u001b[38;5;241;43m=\u001b[39;49m\u001b[43mtz\u001b[49m\u001b[43m,\u001b[49m\n\u001b[0;32m   1015\u001b[0m \u001b[43m    \u001b[49m\u001b[43mnormalize\u001b[49m\u001b[38;5;241;43m=\u001b[39;49m\u001b[43mnormalize\u001b[49m\u001b[43m,\u001b[49m\n\u001b[0;32m   1016\u001b[0m \u001b[43m    \u001b[49m\u001b[43minclusive\u001b[49m\u001b[38;5;241;43m=\u001b[39;49m\u001b[43minclusive\u001b[49m\u001b[43m,\u001b[49m\n\u001b[0;32m   1017\u001b[0m \u001b[43m    \u001b[49m\u001b[43munit\u001b[49m\u001b[38;5;241;43m=\u001b[39;49m\u001b[43munit\u001b[49m\u001b[43m,\u001b[49m\n\u001b[0;32m   1018\u001b[0m \u001b[43m    \u001b[49m\u001b[38;5;241;43m*\u001b[39;49m\u001b[38;5;241;43m*\u001b[39;49m\u001b[43mkwargs\u001b[49m\u001b[43m,\u001b[49m\n\u001b[0;32m   1019\u001b[0m \u001b[43m\u001b[49m\u001b[43m)\u001b[49m\n\u001b[0;32m   1020\u001b[0m \u001b[38;5;28;01mreturn\u001b[39;00m DatetimeIndex\u001b[38;5;241m.\u001b[39m_simple_new(dtarr, name\u001b[38;5;241m=\u001b[39mname)\n",
      "File \u001b[1;32m~\\AppData\\Local\\Programs\\Python\\Python312\\Lib\\site-packages\\pandas\\core\\arrays\\datetimes.py:407\u001b[0m, in \u001b[0;36mDatetimeArray._generate_range\u001b[1;34m(cls, start, end, periods, freq, tz, normalize, ambiguous, nonexistent, inclusive, unit)\u001b[0m\n\u001b[0;32m    404\u001b[0m freq \u001b[38;5;241m=\u001b[39m to_offset(freq)\n\u001b[0;32m    406\u001b[0m \u001b[38;5;28;01mif\u001b[39;00m start \u001b[38;5;129;01mis\u001b[39;00m \u001b[38;5;129;01mnot\u001b[39;00m \u001b[38;5;28;01mNone\u001b[39;00m:\n\u001b[1;32m--> 407\u001b[0m     start \u001b[38;5;241m=\u001b[39m \u001b[43mTimestamp\u001b[49m\u001b[43m(\u001b[49m\u001b[43mstart\u001b[49m\u001b[43m)\u001b[49m\n\u001b[0;32m    409\u001b[0m \u001b[38;5;28;01mif\u001b[39;00m end \u001b[38;5;129;01mis\u001b[39;00m \u001b[38;5;129;01mnot\u001b[39;00m \u001b[38;5;28;01mNone\u001b[39;00m:\n\u001b[0;32m    410\u001b[0m     end \u001b[38;5;241m=\u001b[39m Timestamp(end)\n",
      "File \u001b[1;32mtimestamps.pyx:1899\u001b[0m, in \u001b[0;36mpandas._libs.tslibs.timestamps.Timestamp.__new__\u001b[1;34m()\u001b[0m\n",
      "File \u001b[1;32mconversion.pyx:323\u001b[0m, in \u001b[0;36mpandas._libs.tslibs.conversion.convert_to_tsobject\u001b[1;34m()\u001b[0m\n",
      "\u001b[1;31mValueError\u001b[0m: Cannot convert Period to Timestamp unambiguously. Use to_timestamp"
     ]
    }
   ],
   "source": [
    "import pandas as pd\n",
    "import numpy as np\n",
    "from pmdarima.arima import auto_arima\n",
    "\n",
    "\n",
    "\n",
    "# Diviser les données en ensemble d'entraînement et ensemble de test\n",
    "train_size = int(len(data) * 0.8)  # 80% des données pour l'entraînement\n",
    "train, test = data[0:train_size], data[train_size:]\n",
    "\n",
    "# Utiliser auto_arima pour déterminer les ordres p, d et q avec le meilleur AIC\n",
    "model = auto_arima(train['Bel Air'], \n",
    "                   start_p=0, max_p=5,\n",
    "                   start_d=1, max_d=2,\n",
    "                   start_q=0, max_q=5,\n",
    "                   seasonal=False,\n",
    "                   stepwise=True, trace=True)\n",
    "\n",
    "# Faire des prédictions sur l'ensemble de test\n",
    "forecast_steps = len(test)\n",
    "predictions, conf_int = model.predict(n_periods=forecast_steps, return_conf_int=True)\n",
    "\n",
    "# Créer un index de dates pour les prédictions\n",
    "prediction_index = pd.date_range(start=test.index[0], periods=forecast_steps, freq='D')\n",
    "\n",
    "# Assigner l'index aux prédictions\n",
    "predictions = pd.Series(predictions, index=prediction_index)\n",
    "conf_int = pd.DataFrame(conf_int, index=prediction_index, columns=['lower', 'upper'])\n",
    "\n",
    "# Calculer le coefficient de corrélation\n",
    "correlation = np.corrcoef(test['Bel Air'], predictions)[0, 1]\n",
    "\n",
    "# Afficher le coefficient de corrélation et les ordres optimaux (AIC)\n",
    "print(\"Coefficient de corrélation : {:.2f}\".format(correlation))\n",
    "print(\"Ordres optimaux (AIC): p={}, d={}, q={}\".format(model.order[0], model.order[1], model.order[2]))\n"
   ]
  },
  {
   "cell_type": "code",
   "execution_count": 23,
   "id": "31eb5caa-7f21-47ef-8d20-36d2015fd842",
   "metadata": {},
   "outputs": [
    {
     "name": "stdout",
     "output_type": "stream",
     "text": [
      "Performing stepwise search to minimize aic\n",
      " ARIMA(0,0,0)(0,0,0)[0]             : AIC=9017.844, Time=0.05 sec\n",
      " ARIMA(1,0,0)(0,0,0)[0]             : AIC=7784.276, Time=0.10 sec\n",
      " ARIMA(0,0,1)(0,0,0)[0]             : AIC=8356.294, Time=0.14 sec\n",
      " ARIMA(2,0,0)(0,0,0)[0]             : AIC=7785.909, Time=0.15 sec\n",
      " ARIMA(1,0,1)(0,0,0)[0]             : AIC=7785.680, Time=0.28 sec\n",
      " ARIMA(2,0,1)(0,0,0)[0]             : AIC=7784.208, Time=0.29 sec\n",
      " ARIMA(3,0,1)(0,0,0)[0]             : AIC=7680.236, Time=0.89 sec\n",
      " ARIMA(3,0,0)(0,0,0)[0]             : AIC=7762.042, Time=0.37 sec\n",
      " ARIMA(4,0,1)(0,0,0)[0]             : AIC=7682.156, Time=1.11 sec\n",
      " ARIMA(3,0,2)(0,0,0)[0]             : AIC=7682.176, Time=1.45 sec\n",
      " ARIMA(2,0,2)(0,0,0)[0]             : AIC=7681.942, Time=1.39 sec\n",
      " ARIMA(4,0,0)(0,0,0)[0]             : AIC=7741.979, Time=0.38 sec\n",
      " ARIMA(4,0,2)(0,0,0)[0]             : AIC=7682.122, Time=2.04 sec\n",
      " ARIMA(3,0,1)(0,0,0)[0] intercept   : AIC=7674.968, Time=2.38 sec\n",
      " ARIMA(2,0,1)(0,0,0)[0] intercept   : AIC=7704.181, Time=1.06 sec\n",
      " ARIMA(3,0,0)(0,0,0)[0] intercept   : AIC=7700.142, Time=0.55 sec\n",
      " ARIMA(4,0,1)(0,0,0)[0] intercept   : AIC=7677.403, Time=2.96 sec\n",
      " ARIMA(3,0,2)(0,0,0)[0] intercept   : AIC=7684.783, Time=3.37 sec\n",
      " ARIMA(2,0,0)(0,0,0)[0] intercept   : AIC=7704.921, Time=0.37 sec\n",
      " ARIMA(2,0,2)(0,0,0)[0] intercept   : AIC=7676.838, Time=2.41 sec\n",
      " ARIMA(4,0,0)(0,0,0)[0] intercept   : AIC=7694.323, Time=0.60 sec\n",
      " ARIMA(4,0,2)(0,0,0)[0] intercept   : AIC=inf, Time=3.48 sec\n",
      "\n",
      "Best model:  ARIMA(3,0,1)(0,0,0)[0] intercept\n",
      "Total fit time: 25.848 seconds\n",
      "RMSE: 27.53\n",
      "R^2: -0.25\n",
      "Ordres optimaux (AIC): p=3, d=0, q=1\n"
     ]
    },
    {
     "name": "stderr",
     "output_type": "stream",
     "text": [
      "C:\\Users\\NZO BUSINESS\\AppData\\Local\\Programs\\Python\\Python312\\Lib\\site-packages\\statsmodels\\tsa\\base\\tsa_model.py:836: ValueWarning: No supported index is available. Prediction results will be given with an integer index beginning at `start`.\n",
      "  return get_prediction_index(\n",
      "C:\\Users\\NZO BUSINESS\\AppData\\Local\\Programs\\Python\\Python312\\Lib\\site-packages\\statsmodels\\tsa\\base\\tsa_model.py:836: FutureWarning: No supported index is available. In the next version, calling this method in a model without a supported index will result in an exception.\n",
      "  return get_prediction_index(\n"
     ]
    }
   ],
   "source": [
    "import pandas as pd\n",
    "from pmdarima.arima import auto_arima\n",
    "from sklearn.metrics import mean_squared_error, r2_score\n",
    "from math import sqrt\n",
    "\n",
    "# Charger les données\n",
    "\n",
    "# Diviser les données en ensemble d'entraînement et ensemble de test\n",
    "train_size = int(len(data) * 0.8)  # 80% des données pour l'entraînement\n",
    "train, test = data[0:train_size], data[train_size:]\n",
    "\n",
    "# Utiliser auto_arima pour déterminer les ordres p, d, et q avec le meilleur AIC\n",
    "model = auto_arima(train['Bel Air'], \n",
    "                   start_p=0, max_p=5,\n",
    "                   start_d=1, max_d=2,\n",
    "                   start_q=0, max_q=5,\n",
    "                   seasonal=False,\n",
    "                   stepwise=True, trace=True)\n",
    "\n",
    "# Faire des prédictions sur l'ensemble de test\n",
    "forecast_steps = len(test)\n",
    "predictions = model.predict(n_periods=forecast_steps)\n",
    "\n",
    "# Assigner l'index des prédictions\n",
    "predictions_index = test.index[:forecast_steps]\n",
    "\n",
    "# Calculer RMSE\n",
    "rmse = sqrt(mean_squared_error(test['Bel Air'][:forecast_steps], predictions))\n",
    "\n",
    "# Calculer R^2\n",
    "r2 = r2_score(test['Bel Air'][:forecast_steps], predictions)\n",
    "\n",
    "# Afficher les résultats\n",
    "print(\"RMSE: {:.2f}\".format(rmse))\n",
    "print(\"R^2: {:.2f}\".format(r2))\n",
    "print(\"Ordres optimaux (AIC): p={}, d={}, q={}\".format(model.order[0], model.order[1], model.order[2]))\n"
   ]
  },
  {
   "cell_type": "code",
   "execution_count": 30,
   "id": "640164d1-2c2c-4bed-9118-50f8c8cc4b01",
   "metadata": {},
   "outputs": [
    {
     "name": "stderr",
     "output_type": "stream",
     "text": [
      "C:\\Users\\NZO BUSINESS\\AppData\\Local\\Programs\\Python\\Python312\\Lib\\site-packages\\statsmodels\\tsa\\statespace\\sarimax.py:978: UserWarning: Non-invertible starting MA parameters found. Using zeros as starting parameters.\n",
      "  warn('Non-invertible starting MA parameters found.'\n",
      "C:\\Users\\NZO BUSINESS\\AppData\\Local\\Programs\\Python\\Python312\\Lib\\site-packages\\statsmodels\\tsa\\statespace\\sarimax.py:966: UserWarning: Non-stationary starting autoregressive parameters found. Using zeros as starting parameters.\n",
      "  warn('Non-stationary starting autoregressive parameters'\n",
      "C:\\Users\\NZO BUSINESS\\AppData\\Local\\Programs\\Python\\Python312\\Lib\\site-packages\\statsmodels\\base\\model.py:607: ConvergenceWarning: Maximum Likelihood optimization failed to converge. Check mle_retvals\n",
      "  warnings.warn(\"Maximum Likelihood optimization failed to \"\n",
      "C:\\Users\\NZO BUSINESS\\AppData\\Local\\Programs\\Python\\Python312\\Lib\\site-packages\\statsmodels\\base\\model.py:607: ConvergenceWarning: Maximum Likelihood optimization failed to converge. Check mle_retvals\n",
      "  warnings.warn(\"Maximum Likelihood optimization failed to \"\n"
     ]
    },
    {
     "name": "stdout",
     "output_type": "stream",
     "text": [
      "Meilleur ordre ARIMA basé sur l'AIC: (2, 1, 1) AIC: 9451.100473721272\n",
      "Meilleur ordre ARIMA basé sur le BIC: (2, 1, 1) BIC: 9470.872963412548\n"
     ]
    },
    {
     "name": "stderr",
     "output_type": "stream",
     "text": [
      "C:\\Users\\NZO BUSINESS\\AppData\\Local\\Programs\\Python\\Python312\\Lib\\site-packages\\statsmodels\\base\\model.py:607: ConvergenceWarning: Maximum Likelihood optimization failed to converge. Check mle_retvals\n",
      "  warnings.warn(\"Maximum Likelihood optimization failed to \"\n"
     ]
    }
   ],
   "source": [
    "import pandas as pd\n",
    "import numpy as np\n",
    "from statsmodels.tsa.arima.model import ARIMA\n",
    "import itertools\n",
    "\n",
    "\n",
    "\n",
    "# Définir une plage de valeurs possibles pour p, d et q\n",
    "p_range = range(0, 4)  # Valeurs possibles pour p\n",
    "d_range = range(0, 2)  # Valeurs possibles pour d\n",
    "q_range = range(0, 4)  # Valeurs possibles pour q\n",
    "\n",
    "# Générer toutes les combinaisons possibles de p, d et q\n",
    "pdq_combinations = list(itertools.product(p_range, d_range, q_range))\n",
    "\n",
    "best_aic = float(\"inf\")  # Initialiser l'AIC à l'infini\n",
    "best_bic = float(\"inf\")  # Initialiser le BIC à l'infini\n",
    "best_order_aic = None\n",
    "best_order_bic = None\n",
    "\n",
    "# Parcourir toutes les combinaisons possibles de p, d et q\n",
    "for order in pdq_combinations:\n",
    "    try:\n",
    "        # Créer et ajuster le modèle ARIMA avec l'ordre actuel\n",
    "        model = ARIMA(data['Bel Air'], order=order)\n",
    "        results = model.fit()\n",
    "\n",
    "        # Calculer l'AIC et le BIC pour le modèle actuel\n",
    "        aic = results.aic\n",
    "        bic = results.bic\n",
    "\n",
    "        # Mettre à jour les ordres optimaux si l'AIC ou le BIC actuel est meilleur que le précédent meilleur\n",
    "        if aic < best_aic:\n",
    "            best_aic = aic\n",
    "            best_order_aic = order\n",
    "\n",
    "        if bic < best_bic:\n",
    "            best_bic = bic\n",
    "            best_order_bic = order\n",
    "\n",
    "    except:\n",
    "        continue\n",
    "\n",
    "# Afficher les ordres optimaux selon l'AIC et le BIC\n",
    "print(\"Meilleur ordre ARIMA basé sur l'AIC:\", best_order_aic, \"AIC:\", best_aic)\n",
    "print(\"Meilleur ordre ARIMA basé sur le BIC:\", best_order_bic, \"BIC:\", best_bic)\n"
   ]
  },
  {
   "cell_type": "code",
   "execution_count": 31,
   "id": "2e27d24d-dff9-4de1-be51-e703cef8ffd9",
   "metadata": {},
   "outputs": [
    {
     "name": "stdout",
     "output_type": "stream",
     "text": [
      "Toutes les combinaisons possibles de p, d, et q :\n",
      "p = 0 , d = 0 , q = 0\n",
      "p = 0 , d = 0 , q = 1\n",
      "p = 0 , d = 0 , q = 2\n",
      "p = 0 , d = 0 , q = 3\n",
      "p = 0 , d = 0 , q = 4\n",
      "p = 0 , d = 1 , q = 0\n",
      "p = 0 , d = 1 , q = 1\n",
      "p = 0 , d = 1 , q = 2\n",
      "p = 0 , d = 1 , q = 3\n",
      "p = 0 , d = 1 , q = 4\n",
      "p = 1 , d = 0 , q = 0\n",
      "p = 1 , d = 0 , q = 1\n",
      "p = 1 , d = 0 , q = 2\n",
      "p = 1 , d = 0 , q = 3\n",
      "p = 1 , d = 0 , q = 4\n",
      "p = 1 , d = 1 , q = 0\n",
      "p = 1 , d = 1 , q = 1\n"
     ]
    },
    {
     "name": "stderr",
     "output_type": "stream",
     "text": [
      "C:\\Users\\NZO BUSINESS\\AppData\\Local\\Programs\\Python\\Python312\\Lib\\site-packages\\statsmodels\\tsa\\statespace\\sarimax.py:978: UserWarning: Non-invertible starting MA parameters found. Using zeros as starting parameters.\n",
      "  warn('Non-invertible starting MA parameters found.'\n"
     ]
    },
    {
     "name": "stdout",
     "output_type": "stream",
     "text": [
      "p = 1 , d = 1 , q = 2\n",
      "p = 1 , d = 1 , q = 3\n",
      "p = 1 , d = 1 , q = 4\n",
      "p = 2 , d = 0 , q = 0\n",
      "p = 2 , d = 0 , q = 1\n",
      "p = 2 , d = 0 , q = 2\n"
     ]
    },
    {
     "name": "stderr",
     "output_type": "stream",
     "text": [
      "C:\\Users\\NZO BUSINESS\\AppData\\Local\\Programs\\Python\\Python312\\Lib\\site-packages\\statsmodels\\tsa\\statespace\\sarimax.py:966: UserWarning: Non-stationary starting autoregressive parameters found. Using zeros as starting parameters.\n",
      "  warn('Non-stationary starting autoregressive parameters'\n",
      "C:\\Users\\NZO BUSINESS\\AppData\\Local\\Programs\\Python\\Python312\\Lib\\site-packages\\statsmodels\\base\\model.py:607: ConvergenceWarning: Maximum Likelihood optimization failed to converge. Check mle_retvals\n",
      "  warnings.warn(\"Maximum Likelihood optimization failed to \"\n"
     ]
    },
    {
     "name": "stdout",
     "output_type": "stream",
     "text": [
      "p = 2 , d = 0 , q = 3\n",
      "p = 2 , d = 0 , q = 4\n",
      "p = 2 , d = 1 , q = 0\n",
      "p = 2 , d = 1 , q = 1\n",
      "p = 2 , d = 1 , q = 2\n",
      "p = 2 , d = 1 , q = 3\n",
      "p = 2 , d = 1 , q = 4\n",
      "p = 3 , d = 0 , q = 0\n",
      "p = 3 , d = 0 , q = 1\n",
      "p = 3 , d = 0 , q = 2\n",
      "p = 3 , d = 0 , q = 3\n"
     ]
    },
    {
     "name": "stderr",
     "output_type": "stream",
     "text": [
      "C:\\Users\\NZO BUSINESS\\AppData\\Local\\Programs\\Python\\Python312\\Lib\\site-packages\\statsmodels\\base\\model.py:607: ConvergenceWarning: Maximum Likelihood optimization failed to converge. Check mle_retvals\n",
      "  warnings.warn(\"Maximum Likelihood optimization failed to \"\n"
     ]
    },
    {
     "name": "stdout",
     "output_type": "stream",
     "text": [
      "p = 3 , d = 0 , q = 4\n"
     ]
    },
    {
     "name": "stderr",
     "output_type": "stream",
     "text": [
      "C:\\Users\\NZO BUSINESS\\AppData\\Local\\Programs\\Python\\Python312\\Lib\\site-packages\\statsmodels\\base\\model.py:607: ConvergenceWarning: Maximum Likelihood optimization failed to converge. Check mle_retvals\n",
      "  warnings.warn(\"Maximum Likelihood optimization failed to \"\n"
     ]
    },
    {
     "name": "stdout",
     "output_type": "stream",
     "text": [
      "p = 3 , d = 1 , q = 0\n",
      "p = 3 , d = 1 , q = 1\n",
      "p = 3 , d = 1 , q = 2\n",
      "p = 3 , d = 1 , q = 3\n"
     ]
    },
    {
     "name": "stderr",
     "output_type": "stream",
     "text": [
      "C:\\Users\\NZO BUSINESS\\AppData\\Local\\Programs\\Python\\Python312\\Lib\\site-packages\\statsmodels\\base\\model.py:607: ConvergenceWarning: Maximum Likelihood optimization failed to converge. Check mle_retvals\n",
      "  warnings.warn(\"Maximum Likelihood optimization failed to \"\n"
     ]
    },
    {
     "name": "stdout",
     "output_type": "stream",
     "text": [
      "p = 3 , d = 1 , q = 4\n"
     ]
    },
    {
     "name": "stderr",
     "output_type": "stream",
     "text": [
      "C:\\Users\\NZO BUSINESS\\AppData\\Local\\Programs\\Python\\Python312\\Lib\\site-packages\\statsmodels\\base\\model.py:607: ConvergenceWarning: Maximum Likelihood optimization failed to converge. Check mle_retvals\n",
      "  warnings.warn(\"Maximum Likelihood optimization failed to \"\n"
     ]
    },
    {
     "name": "stdout",
     "output_type": "stream",
     "text": [
      "p = 4 , d = 0 , q = 0\n",
      "p = 4 , d = 0 , q = 1\n",
      "p = 4 , d = 0 , q = 2\n",
      "p = 4 , d = 0 , q = 3\n"
     ]
    },
    {
     "name": "stderr",
     "output_type": "stream",
     "text": [
      "C:\\Users\\NZO BUSINESS\\AppData\\Local\\Programs\\Python\\Python312\\Lib\\site-packages\\statsmodels\\tsa\\statespace\\sarimax.py:966: UserWarning: Non-stationary starting autoregressive parameters found. Using zeros as starting parameters.\n",
      "  warn('Non-stationary starting autoregressive parameters'\n",
      "C:\\Users\\NZO BUSINESS\\AppData\\Local\\Programs\\Python\\Python312\\Lib\\site-packages\\statsmodels\\tsa\\statespace\\sarimax.py:978: UserWarning: Non-invertible starting MA parameters found. Using zeros as starting parameters.\n",
      "  warn('Non-invertible starting MA parameters found.'\n",
      "C:\\Users\\NZO BUSINESS\\AppData\\Local\\Programs\\Python\\Python312\\Lib\\site-packages\\statsmodels\\base\\model.py:607: ConvergenceWarning: Maximum Likelihood optimization failed to converge. Check mle_retvals\n",
      "  warnings.warn(\"Maximum Likelihood optimization failed to \"\n"
     ]
    },
    {
     "name": "stdout",
     "output_type": "stream",
     "text": [
      "p = 4 , d = 0 , q = 4\n"
     ]
    },
    {
     "name": "stderr",
     "output_type": "stream",
     "text": [
      "C:\\Users\\NZO BUSINESS\\AppData\\Local\\Programs\\Python\\Python312\\Lib\\site-packages\\statsmodels\\base\\model.py:607: ConvergenceWarning: Maximum Likelihood optimization failed to converge. Check mle_retvals\n",
      "  warnings.warn(\"Maximum Likelihood optimization failed to \"\n"
     ]
    },
    {
     "name": "stdout",
     "output_type": "stream",
     "text": [
      "p = 4 , d = 1 , q = 0\n",
      "p = 4 , d = 1 , q = 1\n",
      "p = 4 , d = 1 , q = 2\n",
      "p = 4 , d = 1 , q = 3\n"
     ]
    },
    {
     "name": "stderr",
     "output_type": "stream",
     "text": [
      "C:\\Users\\NZO BUSINESS\\AppData\\Local\\Programs\\Python\\Python312\\Lib\\site-packages\\statsmodels\\tsa\\statespace\\sarimax.py:966: UserWarning: Non-stationary starting autoregressive parameters found. Using zeros as starting parameters.\n",
      "  warn('Non-stationary starting autoregressive parameters'\n",
      "C:\\Users\\NZO BUSINESS\\AppData\\Local\\Programs\\Python\\Python312\\Lib\\site-packages\\statsmodels\\tsa\\statespace\\sarimax.py:978: UserWarning: Non-invertible starting MA parameters found. Using zeros as starting parameters.\n",
      "  warn('Non-invertible starting MA parameters found.'\n",
      "C:\\Users\\NZO BUSINESS\\AppData\\Local\\Programs\\Python\\Python312\\Lib\\site-packages\\statsmodels\\base\\model.py:607: ConvergenceWarning: Maximum Likelihood optimization failed to converge. Check mle_retvals\n",
      "  warnings.warn(\"Maximum Likelihood optimization failed to \"\n"
     ]
    },
    {
     "name": "stdout",
     "output_type": "stream",
     "text": [
      "p = 4 , d = 1 , q = 4\n",
      "\n",
      "Meilleur ordre ARIMA basé sur l'AIC: (2, 1, 1) AIC: 9451.100473721272\n",
      "Meilleur ordre ARIMA basé sur le BIC: (2, 1, 1) BIC: 9470.872963412548\n"
     ]
    },
    {
     "name": "stderr",
     "output_type": "stream",
     "text": [
      "C:\\Users\\NZO BUSINESS\\AppData\\Local\\Programs\\Python\\Python312\\Lib\\site-packages\\statsmodels\\base\\model.py:607: ConvergenceWarning: Maximum Likelihood optimization failed to converge. Check mle_retvals\n",
      "  warnings.warn(\"Maximum Likelihood optimization failed to \"\n"
     ]
    }
   ],
   "source": [
    "import pandas as pd\n",
    "import numpy as np\n",
    "from statsmodels.tsa.arima.model import ARIMA\n",
    "import itertools\n",
    "\n",
    "# Charger les données (remplacez ceci par votre propre ensemble de données)\n",
    "# data = pd.read_csv('votre_fichier.csv')\n",
    "\n",
    "# Définir une plage de valeurs possibles pour p, d et q\n",
    "p_range = range(0, 5)  # Valeurs possibles pour p\n",
    "d_range = range(0, 2)  # Valeurs possibles pour d\n",
    "q_range = range(0, 5)  # Valeurs possibles pour q\n",
    "\n",
    "# Générer toutes les combinaisons possibles de p, d et q\n",
    "pdq_combinations = list(itertools.product(p_range, d_range, q_range))\n",
    "\n",
    "best_aic = float(\"inf\")  # Initialiser l'AIC à l'infini\n",
    "best_bic = float(\"inf\")  # Initialiser le BIC à l'infini\n",
    "best_order_aic = None\n",
    "best_order_bic = None\n",
    "\n",
    "# Afficher toutes les combinaisons possibles\n",
    "print(\"Toutes les combinaisons possibles de p, d, et q :\")\n",
    "for order in pdq_combinations:\n",
    "    print(\"p =\", order[0], \", d =\", order[1], \", q =\", order[2])\n",
    "\n",
    "    try:\n",
    "        # Créer et ajuster le modèle ARIMA avec l'ordre actuel\n",
    "        model = ARIMA(data['Bel Air'], order=order)\n",
    "        results = model.fit()\n",
    "\n",
    "        # Calculer l'AIC et le BIC pour le modèle actuel\n",
    "        aic = results.aic\n",
    "        bic = results.bic\n",
    "\n",
    "        # Mettre à jour les ordres optimaux si l'AIC ou le BIC actuel est meilleur que le précédent meilleur\n",
    "        if aic < best_aic:\n",
    "            best_aic = aic\n",
    "            best_order_aic = order\n",
    "\n",
    "        if bic < best_bic:\n",
    "            best_bic = bic\n",
    "            best_order_bic = order\n",
    "\n",
    "    except Exception as e:\n",
    "        print(\"Erreur rencontrée:\", e)\n",
    "        continue\n",
    "\n",
    "# Afficher les ordres optimaux selon l'AIC et le BIC\n",
    "print(\"\\nMeilleur ordre ARIMA basé sur l'AIC:\", best_order_aic, \"AIC:\", best_aic)\n",
    "print(\"Meilleur ordre ARIMA basé sur le BIC:\", best_order_bic, \"BIC:\", best_bic)\n"
   ]
  },
  {
   "cell_type": "code",
   "execution_count": 33,
   "id": "f4ce5fd4-b4a6-4529-8248-10f39388b6e2",
   "metadata": {},
   "outputs": [
    {
     "name": "stderr",
     "output_type": "stream",
     "text": [
      "C:\\Users\\NZO BUSINESS\\AppData\\Local\\Programs\\Python\\Python312\\Lib\\site-packages\\statsmodels\\tsa\\statespace\\sarimax.py:978: UserWarning: Non-invertible starting MA parameters found. Using zeros as starting parameters.\n",
      "  warn('Non-invertible starting MA parameters found.'\n",
      "C:\\Users\\NZO BUSINESS\\AppData\\Local\\Programs\\Python\\Python312\\Lib\\site-packages\\statsmodels\\tsa\\statespace\\sarimax.py:966: UserWarning: Non-stationary starting autoregressive parameters found. Using zeros as starting parameters.\n",
      "  warn('Non-stationary starting autoregressive parameters'\n",
      "C:\\Users\\NZO BUSINESS\\AppData\\Local\\Programs\\Python\\Python312\\Lib\\site-packages\\statsmodels\\base\\model.py:607: ConvergenceWarning: Maximum Likelihood optimization failed to converge. Check mle_retvals\n",
      "  warnings.warn(\"Maximum Likelihood optimization failed to \"\n",
      "C:\\Users\\NZO BUSINESS\\AppData\\Local\\Programs\\Python\\Python312\\Lib\\site-packages\\statsmodels\\base\\model.py:607: ConvergenceWarning: Maximum Likelihood optimization failed to converge. Check mle_retvals\n",
      "  warnings.warn(\"Maximum Likelihood optimization failed to \"\n",
      "C:\\Users\\NZO BUSINESS\\AppData\\Local\\Programs\\Python\\Python312\\Lib\\site-packages\\statsmodels\\base\\model.py:607: ConvergenceWarning: Maximum Likelihood optimization failed to converge. Check mle_retvals\n",
      "  warnings.warn(\"Maximum Likelihood optimization failed to \"\n",
      "C:\\Users\\NZO BUSINESS\\AppData\\Local\\Programs\\Python\\Python312\\Lib\\site-packages\\statsmodels\\base\\model.py:607: ConvergenceWarning: Maximum Likelihood optimization failed to converge. Check mle_retvals\n",
      "  warnings.warn(\"Maximum Likelihood optimization failed to \"\n",
      "C:\\Users\\NZO BUSINESS\\AppData\\Local\\Programs\\Python\\Python312\\Lib\\site-packages\\statsmodels\\base\\model.py:607: ConvergenceWarning: Maximum Likelihood optimization failed to converge. Check mle_retvals\n",
      "  warnings.warn(\"Maximum Likelihood optimization failed to \"\n",
      "C:\\Users\\NZO BUSINESS\\AppData\\Local\\Programs\\Python\\Python312\\Lib\\site-packages\\statsmodels\\base\\model.py:607: ConvergenceWarning: Maximum Likelihood optimization failed to converge. Check mle_retvals\n",
      "  warnings.warn(\"Maximum Likelihood optimization failed to \"\n",
      "C:\\Users\\NZO BUSINESS\\AppData\\Local\\Programs\\Python\\Python312\\Lib\\site-packages\\statsmodels\\tsa\\statespace\\sarimax.py:966: UserWarning: Non-stationary starting autoregressive parameters found. Using zeros as starting parameters.\n",
      "  warn('Non-stationary starting autoregressive parameters'\n",
      "C:\\Users\\NZO BUSINESS\\AppData\\Local\\Programs\\Python\\Python312\\Lib\\site-packages\\statsmodels\\tsa\\statespace\\sarimax.py:978: UserWarning: Non-invertible starting MA parameters found. Using zeros as starting parameters.\n",
      "  warn('Non-invertible starting MA parameters found.'\n",
      "C:\\Users\\NZO BUSINESS\\AppData\\Local\\Programs\\Python\\Python312\\Lib\\site-packages\\statsmodels\\tsa\\statespace\\sarimax.py:966: UserWarning: Non-stationary starting autoregressive parameters found. Using zeros as starting parameters.\n",
      "  warn('Non-stationary starting autoregressive parameters'\n",
      "C:\\Users\\NZO BUSINESS\\AppData\\Local\\Programs\\Python\\Python312\\Lib\\site-packages\\statsmodels\\tsa\\statespace\\sarimax.py:978: UserWarning: Non-invertible starting MA parameters found. Using zeros as starting parameters.\n",
      "  warn('Non-invertible starting MA parameters found.'\n",
      "C:\\Users\\NZO BUSINESS\\AppData\\Local\\Programs\\Python\\Python312\\Lib\\site-packages\\statsmodels\\base\\model.py:607: ConvergenceWarning: Maximum Likelihood optimization failed to converge. Check mle_retvals\n",
      "  warnings.warn(\"Maximum Likelihood optimization failed to \"\n",
      "C:\\Users\\NZO BUSINESS\\AppData\\Local\\Programs\\Python\\Python312\\Lib\\site-packages\\statsmodels\\base\\model.py:607: ConvergenceWarning: Maximum Likelihood optimization failed to converge. Check mle_retvals\n",
      "  warnings.warn(\"Maximum Likelihood optimization failed to \"\n",
      "C:\\Users\\NZO BUSINESS\\AppData\\Local\\Programs\\Python\\Python312\\Lib\\site-packages\\statsmodels\\base\\model.py:607: ConvergenceWarning: Maximum Likelihood optimization failed to converge. Check mle_retvals\n",
      "  warnings.warn(\"Maximum Likelihood optimization failed to \"\n",
      "C:\\Users\\NZO BUSINESS\\AppData\\Local\\Programs\\Python\\Python312\\Lib\\site-packages\\statsmodels\\tsa\\statespace\\sarimax.py:966: UserWarning: Non-stationary starting autoregressive parameters found. Using zeros as starting parameters.\n",
      "  warn('Non-stationary starting autoregressive parameters'\n",
      "C:\\Users\\NZO BUSINESS\\AppData\\Local\\Programs\\Python\\Python312\\Lib\\site-packages\\statsmodels\\tsa\\statespace\\sarimax.py:978: UserWarning: Non-invertible starting MA parameters found. Using zeros as starting parameters.\n",
      "  warn('Non-invertible starting MA parameters found.'\n",
      "C:\\Users\\NZO BUSINESS\\AppData\\Local\\Programs\\Python\\Python312\\Lib\\site-packages\\statsmodels\\base\\model.py:607: ConvergenceWarning: Maximum Likelihood optimization failed to converge. Check mle_retvals\n",
      "  warnings.warn(\"Maximum Likelihood optimization failed to \"\n",
      "C:\\Users\\NZO BUSINESS\\AppData\\Local\\Programs\\Python\\Python312\\Lib\\site-packages\\statsmodels\\base\\model.py:607: ConvergenceWarning: Maximum Likelihood optimization failed to converge. Check mle_retvals\n",
      "  warnings.warn(\"Maximum Likelihood optimization failed to \"\n",
      "C:\\Users\\NZO BUSINESS\\AppData\\Local\\Programs\\Python\\Python312\\Lib\\site-packages\\statsmodels\\base\\model.py:607: ConvergenceWarning: Maximum Likelihood optimization failed to converge. Check mle_retvals\n",
      "  warnings.warn(\"Maximum Likelihood optimization failed to \"\n",
      "C:\\Users\\NZO BUSINESS\\AppData\\Local\\Programs\\Python\\Python312\\Lib\\site-packages\\statsmodels\\base\\model.py:607: ConvergenceWarning: Maximum Likelihood optimization failed to converge. Check mle_retvals\n",
      "  warnings.warn(\"Maximum Likelihood optimization failed to \"\n",
      "C:\\Users\\NZO BUSINESS\\AppData\\Local\\Programs\\Python\\Python312\\Lib\\site-packages\\statsmodels\\tsa\\statespace\\sarimax.py:966: UserWarning: Non-stationary starting autoregressive parameters found. Using zeros as starting parameters.\n",
      "  warn('Non-stationary starting autoregressive parameters'\n",
      "C:\\Users\\NZO BUSINESS\\AppData\\Local\\Programs\\Python\\Python312\\Lib\\site-packages\\statsmodels\\tsa\\statespace\\sarimax.py:978: UserWarning: Non-invertible starting MA parameters found. Using zeros as starting parameters.\n",
      "  warn('Non-invertible starting MA parameters found.'\n",
      "C:\\Users\\NZO BUSINESS\\AppData\\Local\\Programs\\Python\\Python312\\Lib\\site-packages\\statsmodels\\base\\model.py:607: ConvergenceWarning: Maximum Likelihood optimization failed to converge. Check mle_retvals\n",
      "  warnings.warn(\"Maximum Likelihood optimization failed to \"\n",
      "C:\\Users\\NZO BUSINESS\\AppData\\Local\\Programs\\Python\\Python312\\Lib\\site-packages\\statsmodels\\tsa\\statespace\\sarimax.py:966: UserWarning: Non-stationary starting autoregressive parameters found. Using zeros as starting parameters.\n",
      "  warn('Non-stationary starting autoregressive parameters'\n",
      "C:\\Users\\NZO BUSINESS\\AppData\\Local\\Programs\\Python\\Python312\\Lib\\site-packages\\statsmodels\\base\\model.py:607: ConvergenceWarning: Maximum Likelihood optimization failed to converge. Check mle_retvals\n",
      "  warnings.warn(\"Maximum Likelihood optimization failed to \"\n",
      "C:\\Users\\NZO BUSINESS\\AppData\\Local\\Programs\\Python\\Python312\\Lib\\site-packages\\statsmodels\\tsa\\statespace\\sarimax.py:966: UserWarning: Non-stationary starting autoregressive parameters found. Using zeros as starting parameters.\n",
      "  warn('Non-stationary starting autoregressive parameters'\n",
      "C:\\Users\\NZO BUSINESS\\AppData\\Local\\Programs\\Python\\Python312\\Lib\\site-packages\\statsmodels\\tsa\\statespace\\sarimax.py:978: UserWarning: Non-invertible starting MA parameters found. Using zeros as starting parameters.\n",
      "  warn('Non-invertible starting MA parameters found.'\n",
      "C:\\Users\\NZO BUSINESS\\AppData\\Local\\Programs\\Python\\Python312\\Lib\\site-packages\\statsmodels\\base\\model.py:607: ConvergenceWarning: Maximum Likelihood optimization failed to converge. Check mle_retvals\n",
      "  warnings.warn(\"Maximum Likelihood optimization failed to \"\n",
      "C:\\Users\\NZO BUSINESS\\AppData\\Local\\Programs\\Python\\Python312\\Lib\\site-packages\\statsmodels\\tsa\\statespace\\sarimax.py:966: UserWarning: Non-stationary starting autoregressive parameters found. Using zeros as starting parameters.\n",
      "  warn('Non-stationary starting autoregressive parameters'\n",
      "C:\\Users\\NZO BUSINESS\\AppData\\Local\\Programs\\Python\\Python312\\Lib\\site-packages\\statsmodels\\tsa\\statespace\\sarimax.py:978: UserWarning: Non-invertible starting MA parameters found. Using zeros as starting parameters.\n",
      "  warn('Non-invertible starting MA parameters found.'\n",
      "C:\\Users\\NZO BUSINESS\\AppData\\Local\\Programs\\Python\\Python312\\Lib\\site-packages\\statsmodels\\base\\model.py:607: ConvergenceWarning: Maximum Likelihood optimization failed to converge. Check mle_retvals\n",
      "  warnings.warn(\"Maximum Likelihood optimization failed to \"\n"
     ]
    },
    {
     "name": "stdout",
     "output_type": "stream",
     "text": [
      "    p  d  q           AIC           BIC\n",
      "0   0  0  0  10314.043211  10323.931385\n",
      "1   0  0  1   9732.286175   9747.118436\n",
      "2   0  0  2   9566.340398   9586.116747\n",
      "3   0  0  3   9527.124200   9551.844636\n",
      "4   0  0  4   9519.293807   9548.958331\n",
      ".. .. .. ..           ...           ...\n",
      "67  5  1  1   9454.971163   9489.573020\n",
      "68  5  1  2   9456.913459   9496.458439\n",
      "69  5  1  3   9458.712418   9503.200520\n",
      "70  5  1  4   9460.294221   9509.725445\n",
      "71  5  1  5   9462.363564   9516.737910\n",
      "\n",
      "[72 rows x 5 columns]\n"
     ]
    }
   ],
   "source": [
    "import pandas as pd\n",
    "import numpy as np\n",
    "from statsmodels.tsa.arima.model import ARIMA\n",
    "import itertools\n",
    "\n",
    "# Définir une plage de valeurs possibles pour p, d et q\n",
    "p_range = range(0, 6)  # Valeurs possibles pour p\n",
    "d_range = range(0, 2)  # Valeurs possibles pour d\n",
    "q_range = range(0, 6)  # Valeurs possibles pour q\n",
    "\n",
    "# Générer toutes les combinaisons possibles de p, d et q\n",
    "pdq_combinations = list(itertools.product(p_range, d_range, q_range))\n",
    "\n",
    "# Initialiser une liste pour stocker les résultats AIC et BIC\n",
    "results_list = []\n",
    "\n",
    "# Parcourir toutes les combinaisons possibles de p, d et q\n",
    "for order in pdq_combinations:\n",
    "    try:\n",
    "        # Créer et ajuster le modèle ARIMA avec l'ordre actuel\n",
    "        model = ARIMA(data['Bel Air'], order=order)\n",
    "        results = model.fit()\n",
    "\n",
    "        # Calculer l'AIC et le BIC pour le modèle actuel\n",
    "        aic = results.aic\n",
    "        bic = results.bic\n",
    "        \n",
    "        # Ajouter les résultats à la liste\n",
    "        results_list.append({'p': order[0], 'd': order[1], 'q': order[2], 'AIC': aic, 'BIC': bic})\n",
    "\n",
    "    except:\n",
    "        continue\n",
    "\n",
    "# Créer un DataFrame à partir de la liste de dictionnaires\n",
    "results_df = pd.DataFrame(results_list)\n",
    "\n",
    "# Afficher le DataFrame\n",
    "print(results_df)\n"
   ]
  },
  {
   "cell_type": "code",
   "execution_count": 34,
   "id": "907b6a0c-a5a4-4fa5-a1d6-eff965347597",
   "metadata": {},
   "outputs": [
    {
     "data": {
      "text/html": [
       "<div>\n",
       "<style scoped>\n",
       "    .dataframe tbody tr th:only-of-type {\n",
       "        vertical-align: middle;\n",
       "    }\n",
       "\n",
       "    .dataframe tbody tr th {\n",
       "        vertical-align: top;\n",
       "    }\n",
       "\n",
       "    .dataframe thead th {\n",
       "        text-align: right;\n",
       "    }\n",
       "</style>\n",
       "<table border=\"1\" class=\"dataframe\">\n",
       "  <thead>\n",
       "    <tr style=\"text-align: right;\">\n",
       "      <th></th>\n",
       "      <th>p</th>\n",
       "      <th>d</th>\n",
       "      <th>q</th>\n",
       "      <th>AIC</th>\n",
       "      <th>BIC</th>\n",
       "    </tr>\n",
       "  </thead>\n",
       "  <tbody>\n",
       "    <tr>\n",
       "      <th>0</th>\n",
       "      <td>0</td>\n",
       "      <td>0</td>\n",
       "      <td>0</td>\n",
       "      <td>10314.043211</td>\n",
       "      <td>10323.931385</td>\n",
       "    </tr>\n",
       "    <tr>\n",
       "      <th>1</th>\n",
       "      <td>0</td>\n",
       "      <td>0</td>\n",
       "      <td>1</td>\n",
       "      <td>9732.286175</td>\n",
       "      <td>9747.118436</td>\n",
       "    </tr>\n",
       "    <tr>\n",
       "      <th>2</th>\n",
       "      <td>0</td>\n",
       "      <td>0</td>\n",
       "      <td>2</td>\n",
       "      <td>9566.340398</td>\n",
       "      <td>9586.116747</td>\n",
       "    </tr>\n",
       "    <tr>\n",
       "      <th>3</th>\n",
       "      <td>0</td>\n",
       "      <td>0</td>\n",
       "      <td>3</td>\n",
       "      <td>9527.124200</td>\n",
       "      <td>9551.844636</td>\n",
       "    </tr>\n",
       "    <tr>\n",
       "      <th>4</th>\n",
       "      <td>0</td>\n",
       "      <td>0</td>\n",
       "      <td>4</td>\n",
       "      <td>9519.293807</td>\n",
       "      <td>9548.958331</td>\n",
       "    </tr>\n",
       "    <tr>\n",
       "      <th>...</th>\n",
       "      <td>...</td>\n",
       "      <td>...</td>\n",
       "      <td>...</td>\n",
       "      <td>...</td>\n",
       "      <td>...</td>\n",
       "    </tr>\n",
       "    <tr>\n",
       "      <th>67</th>\n",
       "      <td>5</td>\n",
       "      <td>1</td>\n",
       "      <td>1</td>\n",
       "      <td>9454.971163</td>\n",
       "      <td>9489.573020</td>\n",
       "    </tr>\n",
       "    <tr>\n",
       "      <th>68</th>\n",
       "      <td>5</td>\n",
       "      <td>1</td>\n",
       "      <td>2</td>\n",
       "      <td>9456.913459</td>\n",
       "      <td>9496.458439</td>\n",
       "    </tr>\n",
       "    <tr>\n",
       "      <th>69</th>\n",
       "      <td>5</td>\n",
       "      <td>1</td>\n",
       "      <td>3</td>\n",
       "      <td>9458.712418</td>\n",
       "      <td>9503.200520</td>\n",
       "    </tr>\n",
       "    <tr>\n",
       "      <th>70</th>\n",
       "      <td>5</td>\n",
       "      <td>1</td>\n",
       "      <td>4</td>\n",
       "      <td>9460.294221</td>\n",
       "      <td>9509.725445</td>\n",
       "    </tr>\n",
       "    <tr>\n",
       "      <th>71</th>\n",
       "      <td>5</td>\n",
       "      <td>1</td>\n",
       "      <td>5</td>\n",
       "      <td>9462.363564</td>\n",
       "      <td>9516.737910</td>\n",
       "    </tr>\n",
       "  </tbody>\n",
       "</table>\n",
       "<p>72 rows × 5 columns</p>\n",
       "</div>"
      ],
      "text/plain": [
       "    p  d  q           AIC           BIC\n",
       "0   0  0  0  10314.043211  10323.931385\n",
       "1   0  0  1   9732.286175   9747.118436\n",
       "2   0  0  2   9566.340398   9586.116747\n",
       "3   0  0  3   9527.124200   9551.844636\n",
       "4   0  0  4   9519.293807   9548.958331\n",
       ".. .. .. ..           ...           ...\n",
       "67  5  1  1   9454.971163   9489.573020\n",
       "68  5  1  2   9456.913459   9496.458439\n",
       "69  5  1  3   9458.712418   9503.200520\n",
       "70  5  1  4   9460.294221   9509.725445\n",
       "71  5  1  5   9462.363564   9516.737910\n",
       "\n",
       "[72 rows x 5 columns]"
      ]
     },
     "execution_count": 34,
     "metadata": {},
     "output_type": "execute_result"
    }
   ],
   "source": [
    "results_df"
   ]
  },
  {
   "cell_type": "code",
   "execution_count": 35,
   "id": "c6998f86-8626-43d5-8ebb-e66809c0fec0",
   "metadata": {},
   "outputs": [
    {
     "name": "stdout",
     "output_type": "stream",
     "text": [
      "Combinaison: p = 0 , d = 0 , q = 0 , AIC = 10314.043210667094 , BIC = 10323.931385083553\n",
      "Combinaison: p = 0 , d = 0 , q = 1 , AIC = 9732.286174668134 , BIC = 9747.118436292822\n",
      "Combinaison: p = 0 , d = 0 , q = 2 , AIC = 9566.340397909524 , BIC = 9586.116746742442\n",
      "Combinaison: p = 0 , d = 0 , q = 3 , AIC = 9527.124199563325 , BIC = 9551.844635604471\n",
      "Combinaison: p = 0 , d = 0 , q = 4 , AIC = 9519.293807492468 , BIC = 9548.958330741845\n",
      "Combinaison: p = 0 , d = 1 , q = 0 , AIC = 9643.926861909327 , BIC = 9648.869984332146\n",
      "Combinaison: p = 0 , d = 1 , q = 1 , AIC = 9644.4170700225 , BIC = 9654.303314868139\n",
      "Combinaison: p = 0 , d = 1 , q = 2 , AIC = 9529.23919747807 , BIC = 9544.068564746527\n",
      "Combinaison: p = 0 , d = 1 , q = 3 , AIC = 9458.666719548819 , BIC = 9478.439209240096\n",
      "Combinaison: p = 0 , d = 1 , q = 4 , AIC = 9452.00119185137 , BIC = 9476.716803965468\n",
      "Combinaison: p = 1 , d = 0 , q = 0 , AIC = 9509.858037792292 , BIC = 9524.69029941698\n",
      "Combinaison: p = 1 , d = 0 , q = 1 , AIC = 9493.670572136278 , BIC = 9513.446920969196\n",
      "Combinaison: p = 1 , d = 0 , q = 2 , AIC = 9493.116348095687 , BIC = 9517.836784136834\n",
      "Combinaison: p = 1 , d = 0 , q = 3 , AIC = 9463.010438924743 , BIC = 9492.67496217412\n",
      "Combinaison: p = 1 , d = 0 , q = 4 , AIC = 9457.61768734458 , BIC = 9492.226297802186\n",
      "Combinaison: p = 1 , d = 1 , q = 0 , AIC = 9645.124108930215 , BIC = 9655.010353775853\n"
     ]
    },
    {
     "name": "stderr",
     "output_type": "stream",
     "text": [
      "C:\\Users\\NZO BUSINESS\\AppData\\Local\\Programs\\Python\\Python312\\Lib\\site-packages\\statsmodels\\tsa\\statespace\\sarimax.py:978: UserWarning: Non-invertible starting MA parameters found. Using zeros as starting parameters.\n",
      "  warn('Non-invertible starting MA parameters found.'\n"
     ]
    },
    {
     "name": "stdout",
     "output_type": "stream",
     "text": [
      "Combinaison: p = 1 , d = 1 , q = 1 , AIC = 9485.737731006968 , BIC = 9500.567098275425\n",
      "Combinaison: p = 1 , d = 1 , q = 2 , AIC = 9453.573676583415 , BIC = 9473.346166274692\n",
      "Combinaison: p = 1 , d = 1 , q = 3 , AIC = 9451.961269391115 , BIC = 9476.676881505213\n",
      "Combinaison: p = 1 , d = 1 , q = 4 , AIC = 9453.877750462838 , BIC = 9483.536484999755\n",
      "Combinaison: p = 2 , d = 0 , q = 0 , AIC = 9496.731018350587 , BIC = 9516.507367183505\n",
      "Combinaison: p = 2 , d = 0 , q = 1 , AIC = 9495.161220035428 , BIC = 9519.881656076575\n"
     ]
    },
    {
     "name": "stderr",
     "output_type": "stream",
     "text": [
      "C:\\Users\\NZO BUSINESS\\AppData\\Local\\Programs\\Python\\Python312\\Lib\\site-packages\\statsmodels\\tsa\\statespace\\sarimax.py:966: UserWarning: Non-stationary starting autoregressive parameters found. Using zeros as starting parameters.\n",
      "  warn('Non-stationary starting autoregressive parameters'\n",
      "C:\\Users\\NZO BUSINESS\\AppData\\Local\\Programs\\Python\\Python312\\Lib\\site-packages\\statsmodels\\base\\model.py:607: ConvergenceWarning: Maximum Likelihood optimization failed to converge. Check mle_retvals\n",
      "  warnings.warn(\"Maximum Likelihood optimization failed to \"\n"
     ]
    },
    {
     "name": "stdout",
     "output_type": "stream",
     "text": [
      "Combinaison: p = 2 , d = 0 , q = 2 , AIC = 9460.291666283882 , BIC = 9489.956189533259\n",
      "Combinaison: p = 2 , d = 0 , q = 3 , AIC = 9457.800322714016 , BIC = 9492.408933171622\n",
      "Combinaison: p = 2 , d = 0 , q = 4 , AIC = 9459.589068134548 , BIC = 9499.141765800385\n",
      "Combinaison: p = 2 , d = 1 , q = 0 , AIC = 9593.483483839558 , BIC = 9608.312851108016\n",
      "Combinaison: p = 2 , d = 1 , q = 1 , AIC = 9451.100473721272 , BIC = 9470.872963412548\n",
      "Combinaison: p = 2 , d = 1 , q = 2 , AIC = 9452.979107004781 , BIC = 9477.69471911888\n",
      "Combinaison: p = 2 , d = 1 , q = 3 , AIC = 9453.947348144424 , BIC = 9483.606082681341\n",
      "Combinaison: p = 2 , d = 1 , q = 4 , AIC = 9455.776014629286 , BIC = 9490.377871589022\n",
      "Combinaison: p = 3 , d = 0 , q = 0 , AIC = 9489.529577222454 , BIC = 9514.250013263601\n",
      "Combinaison: p = 3 , d = 0 , q = 1 , AIC = 9456.834992880888 , BIC = 9486.499516130265\n",
      "Combinaison: p = 3 , d = 0 , q = 2 , AIC = 9458.76513371434 , BIC = 9493.373744171946\n"
     ]
    },
    {
     "name": "stderr",
     "output_type": "stream",
     "text": [
      "C:\\Users\\NZO BUSINESS\\AppData\\Local\\Programs\\Python\\Python312\\Lib\\site-packages\\statsmodels\\base\\model.py:607: ConvergenceWarning: Maximum Likelihood optimization failed to converge. Check mle_retvals\n",
      "  warnings.warn(\"Maximum Likelihood optimization failed to \"\n"
     ]
    },
    {
     "name": "stdout",
     "output_type": "stream",
     "text": [
      "Combinaison: p = 3 , d = 0 , q = 3 , AIC = 9459.755616007089 , BIC = 9499.308313672926\n"
     ]
    },
    {
     "name": "stderr",
     "output_type": "stream",
     "text": [
      "C:\\Users\\NZO BUSINESS\\AppData\\Local\\Programs\\Python\\Python312\\Lib\\site-packages\\statsmodels\\base\\model.py:607: ConvergenceWarning: Maximum Likelihood optimization failed to converge. Check mle_retvals\n",
      "  warnings.warn(\"Maximum Likelihood optimization failed to \"\n"
     ]
    },
    {
     "name": "stdout",
     "output_type": "stream",
     "text": [
      "Combinaison: p = 3 , d = 0 , q = 4 , AIC = 9461.514678975238 , BIC = 9506.011463849303\n",
      "Combinaison: p = 3 , d = 1 , q = 0 , AIC = 9551.420860498205 , BIC = 9571.193350189482\n",
      "Combinaison: p = 3 , d = 1 , q = 1 , AIC = 9452.9230649331 , BIC = 9477.638677047198\n",
      "Combinaison: p = 3 , d = 1 , q = 2 , AIC = 9455.075288601549 , BIC = 9484.734023138466\n"
     ]
    },
    {
     "name": "stderr",
     "output_type": "stream",
     "text": [
      "C:\\Users\\NZO BUSINESS\\AppData\\Local\\Programs\\Python\\Python312\\Lib\\site-packages\\statsmodels\\base\\model.py:607: ConvergenceWarning: Maximum Likelihood optimization failed to converge. Check mle_retvals\n",
      "  warnings.warn(\"Maximum Likelihood optimization failed to \"\n"
     ]
    },
    {
     "name": "stdout",
     "output_type": "stream",
     "text": [
      "Combinaison: p = 3 , d = 1 , q = 3 , AIC = 9454.42250163648 , BIC = 9489.024358596216\n"
     ]
    },
    {
     "name": "stderr",
     "output_type": "stream",
     "text": [
      "C:\\Users\\NZO BUSINESS\\AppData\\Local\\Programs\\Python\\Python312\\Lib\\site-packages\\statsmodels\\base\\model.py:607: ConvergenceWarning: Maximum Likelihood optimization failed to converge. Check mle_retvals\n",
      "  warnings.warn(\"Maximum Likelihood optimization failed to \"\n"
     ]
    },
    {
     "name": "stdout",
     "output_type": "stream",
     "text": [
      "Combinaison: p = 3 , d = 1 , q = 4 , AIC = 9456.503770493859 , BIC = 9496.048749876414\n",
      "Combinaison: p = 4 , d = 0 , q = 0 , AIC = 9479.12329887292 , BIC = 9508.787822122298\n",
      "Combinaison: p = 4 , d = 0 , q = 1 , AIC = 9458.734485753008 , BIC = 9493.343096210614\n",
      "Combinaison: p = 4 , d = 0 , q = 2 , AIC = 9460.796607300785 , BIC = 9500.349304966621\n"
     ]
    },
    {
     "name": "stderr",
     "output_type": "stream",
     "text": [
      "C:\\Users\\NZO BUSINESS\\AppData\\Local\\Programs\\Python\\Python312\\Lib\\site-packages\\statsmodels\\tsa\\statespace\\sarimax.py:966: UserWarning: Non-stationary starting autoregressive parameters found. Using zeros as starting parameters.\n",
      "  warn('Non-stationary starting autoregressive parameters'\n",
      "C:\\Users\\NZO BUSINESS\\AppData\\Local\\Programs\\Python\\Python312\\Lib\\site-packages\\statsmodels\\tsa\\statespace\\sarimax.py:978: UserWarning: Non-invertible starting MA parameters found. Using zeros as starting parameters.\n",
      "  warn('Non-invertible starting MA parameters found.'\n",
      "C:\\Users\\NZO BUSINESS\\AppData\\Local\\Programs\\Python\\Python312\\Lib\\site-packages\\statsmodels\\base\\model.py:607: ConvergenceWarning: Maximum Likelihood optimization failed to converge. Check mle_retvals\n",
      "  warnings.warn(\"Maximum Likelihood optimization failed to \"\n"
     ]
    },
    {
     "name": "stdout",
     "output_type": "stream",
     "text": [
      "Combinaison: p = 4 , d = 0 , q = 3 , AIC = 9460.574038286484 , BIC = 9505.07082316055\n"
     ]
    },
    {
     "name": "stderr",
     "output_type": "stream",
     "text": [
      "C:\\Users\\NZO BUSINESS\\AppData\\Local\\Programs\\Python\\Python312\\Lib\\site-packages\\statsmodels\\base\\model.py:607: ConvergenceWarning: Maximum Likelihood optimization failed to converge. Check mle_retvals\n",
      "  warnings.warn(\"Maximum Likelihood optimization failed to \"\n"
     ]
    },
    {
     "name": "stdout",
     "output_type": "stream",
     "text": [
      "Combinaison: p = 4 , d = 0 , q = 4 , AIC = 9461.534979693908 , BIC = 9510.975851776204\n",
      "Combinaison: p = 4 , d = 1 , q = 0 , AIC = 9533.343246366538 , BIC = 9558.058858480636\n",
      "Combinaison: p = 4 , d = 1 , q = 1 , AIC = 9453.053991283121 , BIC = 9482.712725820038\n",
      "Combinaison: p = 4 , d = 1 , q = 2 , AIC = 9453.938097460663 , BIC = 9488.5399544204\n"
     ]
    },
    {
     "name": "stderr",
     "output_type": "stream",
     "text": [
      "C:\\Users\\NZO BUSINESS\\AppData\\Local\\Programs\\Python\\Python312\\Lib\\site-packages\\statsmodels\\tsa\\statespace\\sarimax.py:966: UserWarning: Non-stationary starting autoregressive parameters found. Using zeros as starting parameters.\n",
      "  warn('Non-stationary starting autoregressive parameters'\n",
      "C:\\Users\\NZO BUSINESS\\AppData\\Local\\Programs\\Python\\Python312\\Lib\\site-packages\\statsmodels\\tsa\\statespace\\sarimax.py:978: UserWarning: Non-invertible starting MA parameters found. Using zeros as starting parameters.\n",
      "  warn('Non-invertible starting MA parameters found.'\n",
      "C:\\Users\\NZO BUSINESS\\AppData\\Local\\Programs\\Python\\Python312\\Lib\\site-packages\\statsmodels\\base\\model.py:607: ConvergenceWarning: Maximum Likelihood optimization failed to converge. Check mle_retvals\n",
      "  warnings.warn(\"Maximum Likelihood optimization failed to \"\n"
     ]
    },
    {
     "name": "stdout",
     "output_type": "stream",
     "text": [
      "Combinaison: p = 4 , d = 1 , q = 3 , AIC = 9456.334592244608 , BIC = 9495.879571627163\n",
      "Combinaison: p = 4 , d = 1 , q = 4 , AIC = 9456.09991376979 , BIC = 9500.588015575166\n",
      "    p  d  q           AIC           BIC\n",
      "0   0  0  0  10314.043211  10323.931385\n",
      "1   0  0  1   9732.286175   9747.118436\n",
      "2   0  0  2   9566.340398   9586.116747\n",
      "3   0  0  3   9527.124200   9551.844636\n",
      "4   0  0  4   9519.293807   9548.958331\n",
      "5   0  1  0   9643.926862   9648.869984\n",
      "6   0  1  1   9644.417070   9654.303315\n",
      "7   0  1  2   9529.239197   9544.068565\n",
      "8   0  1  3   9458.666720   9478.439209\n",
      "9   0  1  4   9452.001192   9476.716804\n",
      "10  1  0  0   9509.858038   9524.690299\n",
      "11  1  0  1   9493.670572   9513.446921\n",
      "12  1  0  2   9493.116348   9517.836784\n",
      "13  1  0  3   9463.010439   9492.674962\n",
      "14  1  0  4   9457.617687   9492.226298\n",
      "15  1  1  0   9645.124109   9655.010354\n",
      "16  1  1  1   9485.737731   9500.567098\n",
      "17  1  1  2   9453.573677   9473.346166\n",
      "18  1  1  3   9451.961269   9476.676882\n",
      "19  1  1  4   9453.877750   9483.536485\n",
      "20  2  0  0   9496.731018   9516.507367\n",
      "21  2  0  1   9495.161220   9519.881656\n",
      "22  2  0  2   9460.291666   9489.956190\n",
      "23  2  0  3   9457.800323   9492.408933\n",
      "24  2  0  4   9459.589068   9499.141766\n",
      "25  2  1  0   9593.483484   9608.312851\n",
      "26  2  1  1   9451.100474   9470.872963\n",
      "27  2  1  2   9452.979107   9477.694719\n",
      "28  2  1  3   9453.947348   9483.606083\n",
      "29  2  1  4   9455.776015   9490.377872\n",
      "30  3  0  0   9489.529577   9514.250013\n",
      "31  3  0  1   9456.834993   9486.499516\n",
      "32  3  0  2   9458.765134   9493.373744\n",
      "33  3  0  3   9459.755616   9499.308314\n",
      "34  3  0  4   9461.514679   9506.011464\n",
      "35  3  1  0   9551.420860   9571.193350\n",
      "36  3  1  1   9452.923065   9477.638677\n",
      "37  3  1  2   9455.075289   9484.734023\n",
      "38  3  1  3   9454.422502   9489.024359\n",
      "39  3  1  4   9456.503770   9496.048750\n",
      "40  4  0  0   9479.123299   9508.787822\n",
      "41  4  0  1   9458.734486   9493.343096\n",
      "42  4  0  2   9460.796607   9500.349305\n",
      "43  4  0  3   9460.574038   9505.070823\n",
      "44  4  0  4   9461.534980   9510.975852\n",
      "45  4  1  0   9533.343246   9558.058858\n",
      "46  4  1  1   9453.053991   9482.712726\n",
      "47  4  1  2   9453.938097   9488.539954\n",
      "48  4  1  3   9456.334592   9495.879572\n",
      "49  4  1  4   9456.099914   9500.588016\n",
      "Meilleure combinaison basée sur l'AIC: p         2.000000\n",
      "d         1.000000\n",
      "q         1.000000\n",
      "AIC    9451.100474\n",
      "BIC    9470.872963\n",
      "Name: 26, dtype: float64\n",
      "Meilleure combinaison basée sur le BIC: p         2.000000\n",
      "d         1.000000\n",
      "q         1.000000\n",
      "AIC    9451.100474\n",
      "BIC    9470.872963\n",
      "Name: 26, dtype: float64\n"
     ]
    },
    {
     "name": "stderr",
     "output_type": "stream",
     "text": [
      "C:\\Users\\NZO BUSINESS\\AppData\\Local\\Programs\\Python\\Python312\\Lib\\site-packages\\statsmodels\\base\\model.py:607: ConvergenceWarning: Maximum Likelihood optimization failed to converge. Check mle_retvals\n",
      "  warnings.warn(\"Maximum Likelihood optimization failed to \"\n"
     ]
    }
   ],
   "source": [
    "import pandas as pd\n",
    "import numpy as np\n",
    "from statsmodels.tsa.arima.model import ARIMA\n",
    "import itertools\n",
    "\n",
    "# Définir une plage de valeurs possibles pour p, d et q\n",
    "p_range = range(0, 4)  # Valeurs possibles pour p\n",
    "d_range = range(0, 2)  # Valeurs possibles pour d\n",
    "q_range = range(0, 4)  # Valeurs possibles pour q\n",
    "\n",
    "# Générer toutes les combinaisons possibles de p, d et q\n",
    "pdq_combinations = list(itertools.product(p_range, d_range, q_range))\n",
    "\n",
    "# Initialiser une liste pour stocker les résultats\n",
    "results_list = []\n",
    "\n",
    "# Parcourir toutes les combinaisons possibles de p, d et q\n",
    "for order in pdq_combinations:\n",
    "    try:\n",
    "        # Créer et ajuster le modèle ARIMA avec l'ordre actuel\n",
    "        model = ARIMA(data['Bel Air'], order=order)\n",
    "        results = model.fit()\n",
    "\n",
    "        # Calculer l'AIC et le BIC pour le modèle actuel\n",
    "        aic = results.aic\n",
    "        bic = results.bic\n",
    "        \n",
    "        # Ajouter les résultats à la liste\n",
    "        results_list.append({'p': order[0], 'd': order[1], 'q': order[2], 'AIC': aic, 'BIC': bic})\n",
    "\n",
    "        # Afficher les résultats pour chaque combinaison\n",
    "        print(\"Combinaison: p =\", order[0], \", d =\", order[1], \", q =\", order[2], \", AIC =\", aic, \", BIC =\", bic)\n",
    "\n",
    "    except:\n",
    "        continue\n",
    "\n",
    "# Créer un DataFrame à partir de la liste de dictionnaires\n",
    "results_df = pd.DataFrame(results_list)\n",
    "\n",
    "# Afficher le DataFrame\n",
    "print(results_df)\n",
    "\n",
    "# Trouver et afficher la meilleure combinaison basée sur l'AIC\n",
    "best_aic_combination = results_df.loc[results_df['AIC'].idxmin()]\n",
    "print(\"Meilleure combinaison basée sur l'AIC:\", best_aic_combination)\n",
    "\n",
    "# Trouver et afficher la meilleure combinaison basée sur le BIC\n",
    "best_bic_combination = results_df.loc[results_df['BIC'].idxmin()]\n",
    "print(\"Meilleure combinaison basée sur le BIC:\", best_bic_combination)\n"
   ]
  },
  {
   "cell_type": "code",
   "execution_count": null,
   "id": "c9767110-5b48-46f0-b836-1a4b3518c2eb",
   "metadata": {},
   "outputs": [],
   "source": []
  }
 ],
 "metadata": {
  "kernelspec": {
   "display_name": "Python 3 (ipykernel)",
   "language": "python",
   "name": "python3"
  },
  "language_info": {
   "codemirror_mode": {
    "name": "ipython",
    "version": 3
   },
   "file_extension": ".py",
   "mimetype": "text/x-python",
   "name": "python",
   "nbconvert_exporter": "python",
   "pygments_lexer": "ipython3",
   "version": "3.12.0"
  }
 },
 "nbformat": 4,
 "nbformat_minor": 5
}
