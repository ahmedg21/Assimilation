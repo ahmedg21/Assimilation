{
 "cells": [
  {
   "cell_type": "code",
   "execution_count": 16,
   "id": "df7b4aef-ddc5-4cf7-9b86-13653725314d",
   "metadata": {},
   "outputs": [
    {
     "name": "stdout",
     "output_type": "stream",
     "text": [
      "Erreur Quadratique Moyenne (RMSE): 14.986598898767268\n",
      "Erreur Absolue Moyenne (MAE): 9.021285551855138\n",
      "Erreur Absolue Pourcentage Moyenne (MAPE): 41.90750227771073\n",
      "Critère d'Information d'Akaike (AIC): 573.0885301657604\n",
      "Critère d'Information Bayésien (BIC): 589.776220564267\n"
     ]
    }
   ],
   "source": [
    "import pandas as pd\n",
    "import numpy as np\n",
    "from sklearn.metrics import mean_squared_error, mean_absolute_error\n",
    "import statsmodels.api as sm\n",
    "from statsmodels.stats.diagnostic import acorr_ljungbox\n",
    "# Charger les données à partir du fichier (assurez-vous que le fichier est correctement formaté)\n",
    "data = pd.read_csv('predictions_et_obs_3_0_2.csv')\n",
    "valeurs_reelles = data['Observé']\n",
    "valeurs_predites = data['Prédit']\n",
    "\n",
    "# Calculer les métriques d'évaluation\n",
    "rmse = np.sqrt(mean_squared_error(valeurs_reelles, valeurs_predites))\n",
    "mae = mean_absolute_error(valeurs_reelles, valeurs_predites)\n",
    "mape = np.mean(np.abs((valeurs_reelles - valeurs_predites) / valeurs_reelles)) * 100\n",
    "\n",
    "# Afficher les résultats\n",
    "print('Erreur Quadratique Moyenne (RMSE):', rmse)\n",
    "print('Erreur Absolue Moyenne (MAE):', mae)\n",
    "print('Erreur Absolue Pourcentage Moyenne (MAPE):', mape)\n",
    "\n",
    "# Si vous avez les paramètres du modèle ARIMA\n",
    "ordre_arima = (3, 0, 1)  # Remplacez p, d, et q par les valeurs des paramètres du modèle ARIMA\n",
    "nombre_de_parametres = sum(ordre_arima) + 1  # Calcul du nombre total de paramètres dans le modèle ARIMA\n",
    "\n",
    "# Calculer l'AIC et le BIC\n",
    "aic = len(valeurs_reelles) * np.log(rmse) + 2 * nombre_de_parametres\n",
    "bic = len(valeurs_reelles) * np.log(rmse) + np.log(len(valeurs_reelles)) * nombre_de_parametres\n",
    "\n",
    "print('Critère d\\'Information d\\'Akaike (AIC):', aic)\n",
    "print('Critère d\\'Information Bayésien (BIC):', bic)\n",
    "\n",
    "\n",
    "\n",
    "\n",
    "\n",
    "\n"
   ]
  },
  {
   "cell_type": "code",
   "execution_count": 22,
   "id": "2acadb14-9cf3-4fee-b14a-e4a573da0a9a",
   "metadata": {},
   "outputs": [
    {
     "name": "stdout",
     "output_type": "stream",
     "text": [
      "Resultats enregistres\n"
     ]
    }
   ],
   "source": [
    "import pandas as pd\n",
    "import numpy as np\n",
    "from sklearn.metrics import mean_squared_error, mean_absolute_error\n",
    "import statsmodels.api as sm\n",
    "\n",
    "# Charger les données à partir du fichier (assurez-vous que le fichier est correctement formaté)\n",
    "data = pd.read_csv('predictions_et_obs_2_1_1.csv')\n",
    "valeurs_reelles = data['Observé']\n",
    "valeurs_predites = data['Prédit']\n",
    "\n",
    "# Calculer les métriques d'évaluation\n",
    "rmse = np.sqrt(mean_squared_error(valeurs_reelles, valeurs_predites))\n",
    "mae = mean_absolute_error(valeurs_reelles, valeurs_predites)\n",
    "mape = np.mean(np.abs((valeurs_reelles - valeurs_predites) / valeurs_reelles)) * 100\n",
    "\n",
    "# Si vous avez les paramètres du modèle ARIMA\n",
    "ordre_arima = (2, 1, 1)  # Remplacez p, d, et q par les valeurs des paramètres du modèle ARIMA\n",
    "nombre_de_parametres = sum(ordre_arima) + 1  # Calcul du nombre total de paramètres dans le modèle ARIMA\n",
    "\n",
    "# Calculer l'AIC et le BIC\n",
    "aic = len(valeurs_reelles) * np.log(rmse) + 2 * nombre_de_parametres\n",
    "bic = len(valeurs_reelles) * np.log(rmse) + np.log(len(valeurs_reelles)) * nombre_de_parametres\n",
    "\n",
    "# Créer un DataFrame pour stocker les résultats\n",
    "resultats = pd.DataFrame(columns=['RMSE', 'MAE', 'MAPE', 'AIC', 'BIC'])\n",
    "\n",
    "# Ajouter les résultats dans le DataFrame\n",
    "resultats.loc[0] = [rmse, mae, mape, aic, bic]\n",
    "\n",
    "# Enregistrez le DataFrame dans un fichier CSV\n",
    "resultats.to_csv('resultats_modele_arima_2_1_1.csv', index=False)\n",
    "print(\"Resultats enregistres\")\n"
   ]
  },
  {
   "cell_type": "code",
   "execution_count": 32,
   "id": "d2f591ab-0be3-40f5-b91b-fc64addf7e5b",
   "metadata": {},
   "outputs": [
    {
     "name": "stdout",
     "output_type": "stream",
     "text": [
      "Resultats enregistres\n"
     ]
    }
   ],
   "source": [
    "import pandas as pd\n",
    "import numpy as np\n",
    "from sklearn.metrics import mean_squared_error, mean_absolute_error\n",
    "from scipy.stats import pearsonr\n",
    "import statsmodels.api as sm\n",
    "\n",
    "# Charger les données à partir du fichier (assurez-vous que le fichier est correctement formaté)\n",
    "data = pd.read_csv('predictions_et_obs_2_1_1.csv')\n",
    "valeurs_reelles = data['Observé']\n",
    "valeurs_predites = data['Prédit']\n",
    "\n",
    "# Calculer les métriques d'évaluation\n",
    "rmse = np.sqrt(mean_squared_error(valeurs_reelles, valeurs_predites))\n",
    "mae = mean_absolute_error(valeurs_reelles, valeurs_predites)\n",
    "mape = np.mean(np.abs((valeurs_reelles - valeurs_predites) / valeurs_reelles)) * 100\n",
    "\n",
    "# Calculer le coefficient de corrélation\n",
    "coefficient_de_correlation, _ = pearsonr(valeurs_reelles, valeurs_predites)\n",
    "\n",
    "# Si vous avez les paramètres du modèle ARIMA\n",
    "ordre_arima = (2, 1, 1)  # Remplacez p, d, et q par les valeurs des paramètres du modèle ARIMA\n",
    "nombre_de_parametres = sum(ordre_arima) + 1  # Calcul du nombre total de paramètres dans le modèle ARIMA\n",
    "\n",
    "# Calculer l'AIC et le BIC\n",
    "aic = len(valeurs_reelles) * np.log(rmse) + 2 * nombre_de_parametres\n",
    "bic = len(valeurs_reelles) * np.log(rmse) + np.log(len(valeurs_reelles)) * nombre_de_parametres\n",
    "\n",
    "# Créer un DataFrame pour stocker les résultats\n",
    "index = pd.MultiIndex.from_tuples([ordre_arima], names=['p', 'd', 'q'])\n",
    "resultats = pd.DataFrame(columns=['RMSE', 'MAE', 'MAPE', 'Coefficient de corrélation', 'AIC', 'BIC'], index=index)\n",
    "\n",
    "# Ajouter les résultats dans le DataFrame\n",
    "resultats.loc[ordre_arima] = [rmse, mae, mape, coefficient_de_correlation, aic, bic]\n",
    "\n",
    "# Enregistrez le DataFrame dans un fichier CSV\n",
    "resultats.to_csv('resultats_modele_arima_2_1_1.csv')\n",
    "\n",
    "print(\"Resultats enregistres\")"
   ]
  },
  {
   "cell_type": "code",
   "execution_count": null,
   "id": "32fb7b26-8e97-4e4c-b278-77cd56655d43",
   "metadata": {},
   "outputs": [],
   "source": []
  }
 ],
 "metadata": {
  "kernelspec": {
   "display_name": "Python 3 (ipykernel)",
   "language": "python",
   "name": "python3"
  },
  "language_info": {
   "codemirror_mode": {
    "name": "ipython",
    "version": 3
   },
   "file_extension": ".py",
   "mimetype": "text/x-python",
   "name": "python",
   "nbconvert_exporter": "python",
   "pygments_lexer": "ipython3",
   "version": "3.12.0"
  }
 },
 "nbformat": 4,
 "nbformat_minor": 5
}
